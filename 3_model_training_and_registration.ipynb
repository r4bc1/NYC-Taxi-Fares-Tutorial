{
 "cells": [
  {
   "cell_type": "markdown",
   "id": "f6a75673",
   "metadata": {},
   "source": [
    "# <a class=\"anchor\" id=\"1.5_bullet\" style=\"color:#581908\"> **Model training and registration** </a>\n",
    "---\n",
    "\n",
    "In this notebook we will:\n",
    "\n",
    "- Register a model to the model registry.\n",
    "- Fetch the model from the model registry.\n",
    "\n",
    "This will introduce the `hsml` (**H**opsworks **M**achine **L**earning) library, which contains functionality to keep track of models and deploy them.\n",
    "\n",
    "*Note: you need to enable Serving to run this notebook. Go to the **old** Hopsworks UI, click on settings, and check the Serving box.*"
   ]
  },
  {
   "cell_type": "code",
   "execution_count": 1,
   "id": "5673aae3",
   "metadata": {},
   "outputs": [
    {
     "name": "stdout",
     "output_type": "stream",
     "text": [
      "Connected. Call `.close()` to terminate connection gracefully.\n"
     ]
    }
   ],
   "source": [
    "import hsfs\n",
    "\n",
    "conn = hsfs.connection()\n",
    "fs = conn.get_feature_store()"
   ]
  },
  {
   "cell_type": "code",
   "execution_count": 2,
   "id": "4969bf88",
   "metadata": {},
   "outputs": [],
   "source": [
    "from hops import hdfs"
   ]
  },
  {
   "cell_type": "code",
   "execution_count": 3,
   "id": "193b70b7",
   "metadata": {},
   "outputs": [
    {
     "data": {
      "text/plain": [
       "'tutorials'"
      ]
     },
     "execution_count": 3,
     "metadata": {},
     "output_type": "execute_result"
    }
   ],
   "source": [
    "project_name = hdfs.project_name()\n",
    "project_name"
   ]
  },
  {
   "cell_type": "markdown",
   "id": "f21f562b",
   "metadata": {},
   "source": [
    "### <a class=\"anchor\" id=\"1.5_bullet\" style=\"color:#3772ff\"> **⬇️ Training Dataset retrieval** </a>"
   ]
  },
  {
   "cell_type": "markdown",
   "id": "45dd8c1c",
   "metadata": {},
   "source": [
    "To retrieve training dataset from **Feature Store** we retrieve **Feature View** using `FeatureStore.get_feature_view` method.\n",
    "\n",
    "Then we can use **Feature View** in order to retrieve **training dataset** using `FeatureView.get_training_dataset` method.\n"
   ]
  },
  {
   "cell_type": "code",
   "execution_count": 4,
   "id": "c6e7377f",
   "metadata": {},
   "outputs": [],
   "source": [
    "nyc_fares_fv = fs.get_feature_view(\n",
    "    name = 'nyc_taxi_fares',\n",
    "    version = 1\n",
    ")"
   ]
  },
  {
   "cell_type": "code",
   "execution_count": 5,
   "id": "c03f0c1c",
   "metadata": {},
   "outputs": [
    {
     "name": "stderr",
     "output_type": "stream",
     "text": [
      "FutureWarning: pyarrow.hdfs.HadoopFileSystem is deprecated as of 2.0.0, please use pyarrow.fs.HadoopFileSystem instead.\n"
     ]
    }
   ],
   "source": [
    "X_train, y_train, X_test, y_test = nyc_fares_fv.get_train_test_split(\n",
    "    training_dataset_version=2\n",
    ")"
   ]
  },
  {
   "cell_type": "code",
   "execution_count": 6,
   "id": "6248b516",
   "metadata": {},
   "outputs": [],
   "source": [
    "cols_to_drop = ['pickup_datetime', 'ride_id', 'pickup_longitude', 'pickup_latitude',\n",
    "                'dropoff_longitude', 'dropoff_latitude']"
   ]
  },
  {
   "cell_type": "code",
   "execution_count": 7,
   "id": "3daffe60",
   "metadata": {},
   "outputs": [],
   "source": [
    "X_train = X_train.drop(cols_to_drop, axis = 1)\n",
    "X_test = X_test.drop(cols_to_drop, axis = 1)"
   ]
  },
  {
   "cell_type": "code",
   "execution_count": 8,
   "id": "8d87f263",
   "metadata": {},
   "outputs": [
    {
     "data": {
      "text/html": [
       "<div>\n",
       "<style scoped>\n",
       "    .dataframe tbody tr th:only-of-type {\n",
       "        vertical-align: middle;\n",
       "    }\n",
       "\n",
       "    .dataframe tbody tr th {\n",
       "        vertical-align: top;\n",
       "    }\n",
       "\n",
       "    .dataframe thead th {\n",
       "        text-align: right;\n",
       "    }\n",
       "</style>\n",
       "<table border=\"1\" class=\"dataframe\">\n",
       "  <thead>\n",
       "    <tr style=\"text-align: right;\">\n",
       "      <th></th>\n",
       "      <th>month_of_the_ride</th>\n",
       "      <th>passenger_count</th>\n",
       "      <th>distance</th>\n",
       "      <th>pickup_distance_to_jfk</th>\n",
       "      <th>dropoff_distance_to_jfk</th>\n",
       "      <th>pickup_distance_to_ewr</th>\n",
       "      <th>dropoff_distance_to_ewr</th>\n",
       "      <th>pickup_distance_to_lgr</th>\n",
       "      <th>dropoff_distance_to_lgr</th>\n",
       "      <th>year</th>\n",
       "      <th>weekday</th>\n",
       "      <th>hour</th>\n",
       "    </tr>\n",
       "  </thead>\n",
       "  <tbody>\n",
       "    <tr>\n",
       "      <th>0</th>\n",
       "      <td>202001</td>\n",
       "      <td>2</td>\n",
       "      <td>4.542561</td>\n",
       "      <td>8.207207</td>\n",
       "      <td>9.342458</td>\n",
       "      <td>13.795003</td>\n",
       "      <td>11.818338</td>\n",
       "      <td>5.463683</td>\n",
       "      <td>9.971459</td>\n",
       "      <td>2020</td>\n",
       "      <td>4</td>\n",
       "      <td>0</td>\n",
       "    </tr>\n",
       "    <tr>\n",
       "      <th>1</th>\n",
       "      <td>202001</td>\n",
       "      <td>2</td>\n",
       "      <td>2.950174</td>\n",
       "      <td>8.228490</td>\n",
       "      <td>8.942018</td>\n",
       "      <td>14.093878</td>\n",
       "      <td>16.018538</td>\n",
       "      <td>4.956796</td>\n",
       "      <td>2.125818</td>\n",
       "      <td>2020</td>\n",
       "      <td>2</td>\n",
       "      <td>18</td>\n",
       "    </tr>\n",
       "    <tr>\n",
       "      <th>2</th>\n",
       "      <td>202001</td>\n",
       "      <td>2</td>\n",
       "      <td>14.859294</td>\n",
       "      <td>14.947669</td>\n",
       "      <td>8.544431</td>\n",
       "      <td>12.282407</td>\n",
       "      <td>15.215420</td>\n",
       "      <td>17.975351</td>\n",
       "      <td>3.224295</td>\n",
       "      <td>2020</td>\n",
       "      <td>4</td>\n",
       "      <td>14</td>\n",
       "    </tr>\n",
       "    <tr>\n",
       "      <th>3</th>\n",
       "      <td>202001</td>\n",
       "      <td>2</td>\n",
       "      <td>6.288258</td>\n",
       "      <td>8.707592</td>\n",
       "      <td>8.877166</td>\n",
       "      <td>12.342885</td>\n",
       "      <td>15.901979</td>\n",
       "      <td>8.426007</td>\n",
       "      <td>2.277260</td>\n",
       "      <td>2020</td>\n",
       "      <td>3</td>\n",
       "      <td>0</td>\n",
       "    </tr>\n",
       "    <tr>\n",
       "      <th>4</th>\n",
       "      <td>202001</td>\n",
       "      <td>2</td>\n",
       "      <td>1.427555</td>\n",
       "      <td>8.290212</td>\n",
       "      <td>8.210910</td>\n",
       "      <td>14.442159</td>\n",
       "      <td>13.605922</td>\n",
       "      <td>4.392554</td>\n",
       "      <td>5.796770</td>\n",
       "      <td>2020</td>\n",
       "      <td>2</td>\n",
       "      <td>15</td>\n",
       "    </tr>\n",
       "    <tr>\n",
       "      <th>...</th>\n",
       "      <td>...</td>\n",
       "      <td>...</td>\n",
       "      <td>...</td>\n",
       "      <td>...</td>\n",
       "      <td>...</td>\n",
       "      <td>...</td>\n",
       "      <td>...</td>\n",
       "      <td>...</td>\n",
       "      <td>...</td>\n",
       "      <td>...</td>\n",
       "      <td>...</td>\n",
       "      <td>...</td>\n",
       "    </tr>\n",
       "    <tr>\n",
       "      <th>8100</th>\n",
       "      <td>202001</td>\n",
       "      <td>3</td>\n",
       "      <td>9.338248</td>\n",
       "      <td>17.425403</td>\n",
       "      <td>10.181697</td>\n",
       "      <td>25.742470</td>\n",
       "      <td>17.849300</td>\n",
       "      <td>9.929153</td>\n",
       "      <td>1.059557</td>\n",
       "      <td>2020</td>\n",
       "      <td>1</td>\n",
       "      <td>18</td>\n",
       "    </tr>\n",
       "    <tr>\n",
       "      <th>8101</th>\n",
       "      <td>202001</td>\n",
       "      <td>3</td>\n",
       "      <td>0.620122</td>\n",
       "      <td>18.065918</td>\n",
       "      <td>17.515357</td>\n",
       "      <td>26.391734</td>\n",
       "      <td>25.833782</td>\n",
       "      <td>10.648220</td>\n",
       "      <td>10.030527</td>\n",
       "      <td>2020</td>\n",
       "      <td>0</td>\n",
       "      <td>7</td>\n",
       "    </tr>\n",
       "    <tr>\n",
       "      <th>8102</th>\n",
       "      <td>202001</td>\n",
       "      <td>3</td>\n",
       "      <td>11.403952</td>\n",
       "      <td>18.649614</td>\n",
       "      <td>9.787991</td>\n",
       "      <td>26.981436</td>\n",
       "      <td>17.321485</td>\n",
       "      <td>11.298100</td>\n",
       "      <td>0.916293</td>\n",
       "      <td>2020</td>\n",
       "      <td>1</td>\n",
       "      <td>4</td>\n",
       "    </tr>\n",
       "    <tr>\n",
       "      <th>8103</th>\n",
       "      <td>202001</td>\n",
       "      <td>3</td>\n",
       "      <td>7.371391</td>\n",
       "      <td>19.179963</td>\n",
       "      <td>12.904201</td>\n",
       "      <td>27.515560</td>\n",
       "      <td>21.027758</td>\n",
       "      <td>11.884404</td>\n",
       "      <td>4.569731</td>\n",
       "      <td>2020</td>\n",
       "      <td>2</td>\n",
       "      <td>23</td>\n",
       "    </tr>\n",
       "    <tr>\n",
       "      <th>8104</th>\n",
       "      <td>202001</td>\n",
       "      <td>3</td>\n",
       "      <td>18.263913</td>\n",
       "      <td>19.708458</td>\n",
       "      <td>8.214765</td>\n",
       "      <td>28.046453</td>\n",
       "      <td>13.548633</td>\n",
       "      <td>12.465103</td>\n",
       "      <td>5.900022</td>\n",
       "      <td>2020</td>\n",
       "      <td>5</td>\n",
       "      <td>5</td>\n",
       "    </tr>\n",
       "  </tbody>\n",
       "</table>\n",
       "<p>8105 rows × 12 columns</p>\n",
       "</div>"
      ],
      "text/plain": [
       "      month_of_the_ride  passenger_count   distance  pickup_distance_to_jfk  \\\n",
       "0                202001                2   4.542561                8.207207   \n",
       "1                202001                2   2.950174                8.228490   \n",
       "2                202001                2  14.859294               14.947669   \n",
       "3                202001                2   6.288258                8.707592   \n",
       "4                202001                2   1.427555                8.290212   \n",
       "...                 ...              ...        ...                     ...   \n",
       "8100             202001                3   9.338248               17.425403   \n",
       "8101             202001                3   0.620122               18.065918   \n",
       "8102             202001                3  11.403952               18.649614   \n",
       "8103             202001                3   7.371391               19.179963   \n",
       "8104             202001                3  18.263913               19.708458   \n",
       "\n",
       "      dropoff_distance_to_jfk  pickup_distance_to_ewr  \\\n",
       "0                    9.342458               13.795003   \n",
       "1                    8.942018               14.093878   \n",
       "2                    8.544431               12.282407   \n",
       "3                    8.877166               12.342885   \n",
       "4                    8.210910               14.442159   \n",
       "...                       ...                     ...   \n",
       "8100                10.181697               25.742470   \n",
       "8101                17.515357               26.391734   \n",
       "8102                 9.787991               26.981436   \n",
       "8103                12.904201               27.515560   \n",
       "8104                 8.214765               28.046453   \n",
       "\n",
       "      dropoff_distance_to_ewr  pickup_distance_to_lgr  \\\n",
       "0                   11.818338                5.463683   \n",
       "1                   16.018538                4.956796   \n",
       "2                   15.215420               17.975351   \n",
       "3                   15.901979                8.426007   \n",
       "4                   13.605922                4.392554   \n",
       "...                       ...                     ...   \n",
       "8100                17.849300                9.929153   \n",
       "8101                25.833782               10.648220   \n",
       "8102                17.321485               11.298100   \n",
       "8103                21.027758               11.884404   \n",
       "8104                13.548633               12.465103   \n",
       "\n",
       "      dropoff_distance_to_lgr  year  weekday  hour  \n",
       "0                    9.971459  2020        4     0  \n",
       "1                    2.125818  2020        2    18  \n",
       "2                    3.224295  2020        4    14  \n",
       "3                    2.277260  2020        3     0  \n",
       "4                    5.796770  2020        2    15  \n",
       "...                       ...   ...      ...   ...  \n",
       "8100                 1.059557  2020        1    18  \n",
       "8101                10.030527  2020        0     7  \n",
       "8102                 0.916293  2020        1     4  \n",
       "8103                 4.569731  2020        2    23  \n",
       "8104                 5.900022  2020        5     5  \n",
       "\n",
       "[8105 rows x 12 columns]"
      ]
     },
     "execution_count": 8,
     "metadata": {},
     "output_type": "execute_result"
    }
   ],
   "source": [
    "X_test"
   ]
  },
  {
   "cell_type": "code",
   "execution_count": 9,
   "id": "7d0fe86e",
   "metadata": {},
   "outputs": [
    {
     "data": {
      "text/html": [
       "<div>\n",
       "<style scoped>\n",
       "    .dataframe tbody tr th:only-of-type {\n",
       "        vertical-align: middle;\n",
       "    }\n",
       "\n",
       "    .dataframe tbody tr th {\n",
       "        vertical-align: top;\n",
       "    }\n",
       "\n",
       "    .dataframe thead th {\n",
       "        text-align: right;\n",
       "    }\n",
       "</style>\n",
       "<table border=\"1\" class=\"dataframe\">\n",
       "  <thead>\n",
       "    <tr style=\"text-align: right;\">\n",
       "      <th></th>\n",
       "      <th>total_fare</th>\n",
       "    </tr>\n",
       "  </thead>\n",
       "  <tbody>\n",
       "    <tr>\n",
       "      <th>0</th>\n",
       "      <td>7.0</td>\n",
       "    </tr>\n",
       "    <tr>\n",
       "      <th>1</th>\n",
       "      <td>8.0</td>\n",
       "    </tr>\n",
       "    <tr>\n",
       "      <th>2</th>\n",
       "      <td>8.0</td>\n",
       "    </tr>\n",
       "    <tr>\n",
       "      <th>3</th>\n",
       "      <td>10.0</td>\n",
       "    </tr>\n",
       "    <tr>\n",
       "      <th>4</th>\n",
       "      <td>12.0</td>\n",
       "    </tr>\n",
       "    <tr>\n",
       "      <th>...</th>\n",
       "      <td>...</td>\n",
       "    </tr>\n",
       "    <tr>\n",
       "      <th>8100</th>\n",
       "      <td>123.0</td>\n",
       "    </tr>\n",
       "    <tr>\n",
       "      <th>8101</th>\n",
       "      <td>129.0</td>\n",
       "    </tr>\n",
       "    <tr>\n",
       "      <th>8102</th>\n",
       "      <td>133.0</td>\n",
       "    </tr>\n",
       "    <tr>\n",
       "      <th>8103</th>\n",
       "      <td>139.0</td>\n",
       "    </tr>\n",
       "    <tr>\n",
       "      <th>8104</th>\n",
       "      <td>143.0</td>\n",
       "    </tr>\n",
       "  </tbody>\n",
       "</table>\n",
       "<p>8105 rows × 1 columns</p>\n",
       "</div>"
      ],
      "text/plain": [
       "      total_fare\n",
       "0            7.0\n",
       "1            8.0\n",
       "2            8.0\n",
       "3           10.0\n",
       "4           12.0\n",
       "...          ...\n",
       "8100       123.0\n",
       "8101       129.0\n",
       "8102       133.0\n",
       "8103       139.0\n",
       "8104       143.0\n",
       "\n",
       "[8105 rows x 1 columns]"
      ]
     },
     "execution_count": 9,
     "metadata": {},
     "output_type": "execute_result"
    }
   ],
   "source": [
    "y_test"
   ]
  },
  {
   "cell_type": "markdown",
   "id": "7927407a",
   "metadata": {},
   "source": [
    "## 🤖 **Model Building**"
   ]
  },
  {
   "cell_type": "markdown",
   "id": "a981a728",
   "metadata": {},
   "source": [
    "- Let's use GradientBoostingRegressor and RandomForestRegressor for demonstration purposes."
   ]
  },
  {
   "cell_type": "markdown",
   "id": "7d4868cd",
   "metadata": {},
   "source": [
    "### <a class=\"anchor\" id=\"1.5_bullet\" style=\"color:#e363a3\"> **📝 Importing Libraries** </a>"
   ]
  },
  {
   "cell_type": "code",
   "execution_count": 10,
   "id": "d9d53630",
   "metadata": {},
   "outputs": [],
   "source": [
    "import matplotlib.pyplot as plt\n",
    "import pandas as pd\n",
    "import seaborn as sns\n",
    "\n",
    "from sklearn.model_selection import train_test_split\n",
    "from sklearn.ensemble import RandomForestRegressor\n",
    "from sklearn.ensemble import GradientBoostingRegressor\n",
    "\n",
    "from sklearn.metrics import r2_score\n",
    "from sklearn.metrics import mean_absolute_error"
   ]
  },
  {
   "cell_type": "markdown",
   "id": "08e09f7e",
   "metadata": {},
   "source": [
    "## <a class=\"anchor\" id=\"1.5_bullet\" style=\"color:#df2935\"> **🧬 Modeling** </a>"
   ]
  },
  {
   "cell_type": "markdown",
   "id": "d0a2c5c3",
   "metadata": {},
   "source": [
    "### <a class=\"anchor\" id=\"1.5_bullet\" style=\"color:#df2935\"> **🔬 Support Vector Regressor** </a>\n"
   ]
  },
  {
   "cell_type": "code",
   "execution_count": 11,
   "id": "d56d3ce0",
   "metadata": {},
   "outputs": [
    {
     "name": "stderr",
     "output_type": "stream",
     "text": [
      "DataConversionWarning: A column-vector y was passed when a 1d array was expected. Please change the shape of y to (n_samples, ), for example using ravel().\n"
     ]
    },
    {
     "data": {
      "text/html": [
       "<style>#sk-container-id-1 {color: black;background-color: white;}#sk-container-id-1 pre{padding: 0;}#sk-container-id-1 div.sk-toggleable {background-color: white;}#sk-container-id-1 label.sk-toggleable__label {cursor: pointer;display: block;width: 100%;margin-bottom: 0;padding: 0.3em;box-sizing: border-box;text-align: center;}#sk-container-id-1 label.sk-toggleable__label-arrow:before {content: \"▸\";float: left;margin-right: 0.25em;color: #696969;}#sk-container-id-1 label.sk-toggleable__label-arrow:hover:before {color: black;}#sk-container-id-1 div.sk-estimator:hover label.sk-toggleable__label-arrow:before {color: black;}#sk-container-id-1 div.sk-toggleable__content {max-height: 0;max-width: 0;overflow: hidden;text-align: left;background-color: #f0f8ff;}#sk-container-id-1 div.sk-toggleable__content pre {margin: 0.2em;color: black;border-radius: 0.25em;background-color: #f0f8ff;}#sk-container-id-1 input.sk-toggleable__control:checked~div.sk-toggleable__content {max-height: 200px;max-width: 100%;overflow: auto;}#sk-container-id-1 input.sk-toggleable__control:checked~label.sk-toggleable__label-arrow:before {content: \"▾\";}#sk-container-id-1 div.sk-estimator input.sk-toggleable__control:checked~label.sk-toggleable__label {background-color: #d4ebff;}#sk-container-id-1 div.sk-label input.sk-toggleable__control:checked~label.sk-toggleable__label {background-color: #d4ebff;}#sk-container-id-1 input.sk-hidden--visually {border: 0;clip: rect(1px 1px 1px 1px);clip: rect(1px, 1px, 1px, 1px);height: 1px;margin: -1px;overflow: hidden;padding: 0;position: absolute;width: 1px;}#sk-container-id-1 div.sk-estimator {font-family: monospace;background-color: #f0f8ff;border: 1px dotted black;border-radius: 0.25em;box-sizing: border-box;margin-bottom: 0.5em;}#sk-container-id-1 div.sk-estimator:hover {background-color: #d4ebff;}#sk-container-id-1 div.sk-parallel-item::after {content: \"\";width: 100%;border-bottom: 1px solid gray;flex-grow: 1;}#sk-container-id-1 div.sk-label:hover label.sk-toggleable__label {background-color: #d4ebff;}#sk-container-id-1 div.sk-serial::before {content: \"\";position: absolute;border-left: 1px solid gray;box-sizing: border-box;top: 0;bottom: 0;left: 50%;z-index: 0;}#sk-container-id-1 div.sk-serial {display: flex;flex-direction: column;align-items: center;background-color: white;padding-right: 0.2em;padding-left: 0.2em;position: relative;}#sk-container-id-1 div.sk-item {position: relative;z-index: 1;}#sk-container-id-1 div.sk-parallel {display: flex;align-items: stretch;justify-content: center;background-color: white;position: relative;}#sk-container-id-1 div.sk-item::before, #sk-container-id-1 div.sk-parallel-item::before {content: \"\";position: absolute;border-left: 1px solid gray;box-sizing: border-box;top: 0;bottom: 0;left: 50%;z-index: -1;}#sk-container-id-1 div.sk-parallel-item {display: flex;flex-direction: column;z-index: 1;position: relative;background-color: white;}#sk-container-id-1 div.sk-parallel-item:first-child::after {align-self: flex-end;width: 50%;}#sk-container-id-1 div.sk-parallel-item:last-child::after {align-self: flex-start;width: 50%;}#sk-container-id-1 div.sk-parallel-item:only-child::after {width: 0;}#sk-container-id-1 div.sk-dashed-wrapped {border: 1px dashed gray;margin: 0 0.4em 0.5em 0.4em;box-sizing: border-box;padding-bottom: 0.4em;background-color: white;}#sk-container-id-1 div.sk-label label {font-family: monospace;font-weight: bold;display: inline-block;line-height: 1.2em;}#sk-container-id-1 div.sk-label-container {text-align: center;}#sk-container-id-1 div.sk-container {/* jupyter's `normalize.less` sets `[hidden] { display: none; }` but bootstrap.min.css set `[hidden] { display: none !important; }` so we also need the `!important` here to be able to override the default hidden behavior on the sphinx rendered scikit-learn.org. See: https://github.com/scikit-learn/scikit-learn/issues/21755 */display: inline-block !important;position: relative;}#sk-container-id-1 div.sk-text-repr-fallback {display: none;}</style><div id=\"sk-container-id-1\" class=\"sk-top-container\"><div class=\"sk-text-repr-fallback\"><pre>GradientBoostingRegressor()</pre><b>In a Jupyter environment, please rerun this cell to show the HTML representation or trust the notebook. <br />On GitHub, the HTML representation is unable to render, please try loading this page with nbviewer.org.</b></div><div class=\"sk-container\" hidden><div class=\"sk-item\"><div class=\"sk-estimator sk-toggleable\"><input class=\"sk-toggleable__control sk-hidden--visually\" id=\"sk-estimator-id-1\" type=\"checkbox\" checked><label for=\"sk-estimator-id-1\" class=\"sk-toggleable__label sk-toggleable__label-arrow\">GradientBoostingRegressor</label><div class=\"sk-toggleable__content\"><pre>GradientBoostingRegressor()</pre></div></div></div></div></div>"
      ],
      "text/plain": [
       "GradientBoostingRegressor()"
      ]
     },
     "execution_count": 11,
     "metadata": {},
     "output_type": "execute_result"
    }
   ],
   "source": [
    "gbr_model = GradientBoostingRegressor()\n",
    "\n",
    "gbr_model.fit(X_train, y_train)"
   ]
  },
  {
   "cell_type": "code",
   "execution_count": 12,
   "id": "db596cc2",
   "metadata": {},
   "outputs": [
    {
     "name": "stdout",
     "output_type": "stream",
     "text": [
      "Gradient Boosting Regressor R²: 0.764339820310264\n",
      "Gradient Boosting Regressor MAE: 8.773299059952583\n"
     ]
    }
   ],
   "source": [
    "gbr_preds = gbr_model.predict(X_test)\n",
    "\n",
    "gbr_r2_score = r2_score(y_test, gbr_preds)\n",
    "gbr_mae = mean_absolute_error(y_test, gbr_preds)\n",
    "\n",
    "print(\"Gradient Boosting Regressor R²:\", gbr_r2_score)\n",
    "print(\"Gradient Boosting Regressor MAE:\", gbr_mae)"
   ]
  },
  {
   "cell_type": "code",
   "execution_count": 13,
   "id": "a559beef",
   "metadata": {},
   "outputs": [
    {
     "data": {
      "image/png": "[encoded data removed]",
      "text/plain": [
       "<Figure size 640x480 with 1 Axes>"
      ]
     },
     "metadata": {},
     "output_type": "display_data"
    }
   ],
   "source": [
    "sns.residplot(y_test, gbr_preds, color='#7EA172')\n",
    "plt.title('Model Residuals')\n",
    "plt.xlabel('Obsevation #')\n",
    "plt.ylabel('Error')\n",
    "\n",
    "plt.show()"
   ]
  },
  {
   "cell_type": "markdown",
   "id": "cf2b70c1",
   "metadata": {},
   "source": [
    "### <a class=\"anchor\" id=\"1.5_bullet\" style=\"color:#df2935\"> **🔬 Random Forest Regressor** </a>\n"
   ]
  },
  {
   "cell_type": "code",
   "execution_count": 14,
   "id": "c70d0c06",
   "metadata": {},
   "outputs": [
    {
     "name": "stderr",
     "output_type": "stream",
     "text": [
      "DataConversionWarning: A column-vector y was passed when a 1d array was expected. Please change the shape of y to (n_samples,), for example using ravel().\n"
     ]
    },
    {
     "data": {
      "text/html": [
       "<style>#sk-container-id-2 {color: black;background-color: white;}#sk-container-id-2 pre{padding: 0;}#sk-container-id-2 div.sk-toggleable {background-color: white;}#sk-container-id-2 label.sk-toggleable__label {cursor: pointer;display: block;width: 100%;margin-bottom: 0;padding: 0.3em;box-sizing: border-box;text-align: center;}#sk-container-id-2 label.sk-toggleable__label-arrow:before {content: \"▸\";float: left;margin-right: 0.25em;color: #696969;}#sk-container-id-2 label.sk-toggleable__label-arrow:hover:before {color: black;}#sk-container-id-2 div.sk-estimator:hover label.sk-toggleable__label-arrow:before {color: black;}#sk-container-id-2 div.sk-toggleable__content {max-height: 0;max-width: 0;overflow: hidden;text-align: left;background-color: #f0f8ff;}#sk-container-id-2 div.sk-toggleable__content pre {margin: 0.2em;color: black;border-radius: 0.25em;background-color: #f0f8ff;}#sk-container-id-2 input.sk-toggleable__control:checked~div.sk-toggleable__content {max-height: 200px;max-width: 100%;overflow: auto;}#sk-container-id-2 input.sk-toggleable__control:checked~label.sk-toggleable__label-arrow:before {content: \"▾\";}#sk-container-id-2 div.sk-estimator input.sk-toggleable__control:checked~label.sk-toggleable__label {background-color: #d4ebff;}#sk-container-id-2 div.sk-label input.sk-toggleable__control:checked~label.sk-toggleable__label {background-color: #d4ebff;}#sk-container-id-2 input.sk-hidden--visually {border: 0;clip: rect(1px 1px 1px 1px);clip: rect(1px, 1px, 1px, 1px);height: 1px;margin: -1px;overflow: hidden;padding: 0;position: absolute;width: 1px;}#sk-container-id-2 div.sk-estimator {font-family: monospace;background-color: #f0f8ff;border: 1px dotted black;border-radius: 0.25em;box-sizing: border-box;margin-bottom: 0.5em;}#sk-container-id-2 div.sk-estimator:hover {background-color: #d4ebff;}#sk-container-id-2 div.sk-parallel-item::after {content: \"\";width: 100%;border-bottom: 1px solid gray;flex-grow: 1;}#sk-container-id-2 div.sk-label:hover label.sk-toggleable__label {background-color: #d4ebff;}#sk-container-id-2 div.sk-serial::before {content: \"\";position: absolute;border-left: 1px solid gray;box-sizing: border-box;top: 0;bottom: 0;left: 50%;z-index: 0;}#sk-container-id-2 div.sk-serial {display: flex;flex-direction: column;align-items: center;background-color: white;padding-right: 0.2em;padding-left: 0.2em;position: relative;}#sk-container-id-2 div.sk-item {position: relative;z-index: 1;}#sk-container-id-2 div.sk-parallel {display: flex;align-items: stretch;justify-content: center;background-color: white;position: relative;}#sk-container-id-2 div.sk-item::before, #sk-container-id-2 div.sk-parallel-item::before {content: \"\";position: absolute;border-left: 1px solid gray;box-sizing: border-box;top: 0;bottom: 0;left: 50%;z-index: -1;}#sk-container-id-2 div.sk-parallel-item {display: flex;flex-direction: column;z-index: 1;position: relative;background-color: white;}#sk-container-id-2 div.sk-parallel-item:first-child::after {align-self: flex-end;width: 50%;}#sk-container-id-2 div.sk-parallel-item:last-child::after {align-self: flex-start;width: 50%;}#sk-container-id-2 div.sk-parallel-item:only-child::after {width: 0;}#sk-container-id-2 div.sk-dashed-wrapped {border: 1px dashed gray;margin: 0 0.4em 0.5em 0.4em;box-sizing: border-box;padding-bottom: 0.4em;background-color: white;}#sk-container-id-2 div.sk-label label {font-family: monospace;font-weight: bold;display: inline-block;line-height: 1.2em;}#sk-container-id-2 div.sk-label-container {text-align: center;}#sk-container-id-2 div.sk-container {/* jupyter's `normalize.less` sets `[hidden] { display: none; }` but bootstrap.min.css set `[hidden] { display: none !important; }` so we also need the `!important` here to be able to override the default hidden behavior on the sphinx rendered scikit-learn.org. See: https://github.com/scikit-learn/scikit-learn/issues/21755 */display: inline-block !important;position: relative;}#sk-container-id-2 div.sk-text-repr-fallback {display: none;}</style><div id=\"sk-container-id-2\" class=\"sk-top-container\"><div class=\"sk-text-repr-fallback\"><pre>RandomForestRegressor(n_jobs=-1, random_state=42)</pre><b>In a Jupyter environment, please rerun this cell to show the HTML representation or trust the notebook. <br />On GitHub, the HTML representation is unable to render, please try loading this page with nbviewer.org.</b></div><div class=\"sk-container\" hidden><div class=\"sk-item\"><div class=\"sk-estimator sk-toggleable\"><input class=\"sk-toggleable__control sk-hidden--visually\" id=\"sk-estimator-id-2\" type=\"checkbox\" checked><label for=\"sk-estimator-id-2\" class=\"sk-toggleable__label sk-toggleable__label-arrow\">RandomForestRegressor</label><div class=\"sk-toggleable__content\"><pre>RandomForestRegressor(n_jobs=-1, random_state=42)</pre></div></div></div></div></div>"
      ],
      "text/plain": [
       "RandomForestRegressor(n_jobs=-1, random_state=42)"
      ]
     },
     "execution_count": 14,
     "metadata": {},
     "output_type": "execute_result"
    }
   ],
   "source": [
    "rf_model = RandomForestRegressor(\n",
    "    n_jobs = -1,\n",
    "    random_state = 42\n",
    ")\n",
    "\n",
    "rf_model.fit(X_train, y_train)"
   ]
  },
  {
   "cell_type": "code",
   "execution_count": 15,
   "id": "b72bd850",
   "metadata": {},
   "outputs": [
    {
     "name": "stdout",
     "output_type": "stream",
     "text": [
      "Random Forest Regressor R²: 0.7790477868729945\n",
      "Random Forest Regressor MAE: 7.7978050586058\n"
     ]
    }
   ],
   "source": [
    "rf_preds = rf_model.predict(X_test)\n",
    "\n",
    "rf_r2_score = r2_score(y_test, rf_preds)\n",
    "rf_mae = mean_absolute_error(y_test, rf_preds)\n",
    "\n",
    "print(\"Random Forest Regressor R²:\", rf_r2_score)\n",
    "print(\"Random Forest Regressor MAE:\", rf_mae)"
   ]
  },
  {
   "cell_type": "code",
   "execution_count": 16,
   "id": "03037590",
   "metadata": {},
   "outputs": [
    {
     "data": {
      "image/png": "[encoded data removed]",
      "text/plain": [
       "<Figure size 640x480 with 1 Axes>"
      ]
     },
     "metadata": {},
     "output_type": "display_data"
    }
   ],
   "source": [
    "sns.residplot(y_test, rf_preds, color='#613F75')\n",
    "plt.title('Model Residuals')\n",
    "plt.xlabel('Obsevation #')\n",
    "plt.ylabel('Error')\n",
    "\n",
    "plt.show()"
   ]
  },
  {
   "cell_type": "markdown",
   "id": "8d3d2f07",
   "metadata": {},
   "source": [
    "The Random Forest did a better job, so we will register this specififc model."
   ]
  },
  {
   "cell_type": "markdown",
   "id": "d8b46db8",
   "metadata": {},
   "source": [
    "## <a class=\"anchor\" id=\"1.5_bullet\" style=\"color:#525252\"> **📝 Register model** </a>\n",
    "\n",
    "\n",
    "One of the features in Hopsworks is the model registry. This is where we can store different versions of models and compare their performance. Models from the registry can then be served as API endpoints.\n",
    "\n",
    "Let's connect to the model registry using the [HSML library](https://docs.hopsworks.ai/machine-learning-api/latest) from Hopsworks."
   ]
  },
  {
   "cell_type": "code",
   "execution_count": 17,
   "id": "8171498a",
   "metadata": {},
   "outputs": [
    {
     "name": "stdout",
     "output_type": "stream",
     "text": [
      "Connected. Call `.close()` to terminate connection gracefully.\n"
     ]
    }
   ],
   "source": [
    "import hsml\n",
    "\n",
    "conn = hsml.connection()\n",
    "mr = conn.get_model_registry()"
   ]
  },
  {
   "cell_type": "markdown",
   "id": "3981d077",
   "metadata": {},
   "source": [
    "Before registering the model we will export it as a pickle file using joblib."
   ]
  },
  {
   "cell_type": "code",
   "execution_count": 18,
   "id": "e049d5a8",
   "metadata": {},
   "outputs": [
    {
     "data": {
      "text/plain": [
       "['model.pkl']"
      ]
     },
     "execution_count": 18,
     "metadata": {},
     "output_type": "execute_result"
    }
   ],
   "source": [
    "import joblib\n",
    "\n",
    "joblib.dump(rf_model, 'model.pkl')"
   ]
  },
  {
   "cell_type": "markdown",
   "id": "37ae8f35",
   "metadata": {},
   "source": [
    "### <a class=\"anchor\" id=\"1.5_bullet\" style=\"color:#525252\"> **Model Schema** </a>\n"
   ]
  },
  {
   "cell_type": "markdown",
   "id": "675e7539",
   "metadata": {},
   "source": [
    "The model needs to be set up with a [Model Schema](https://docs.hopsworks.ai/machine-learning-api/latest/generated/model_schema/), which describes the inputs and outputs for a model.\n",
    "\n",
    "A Model Schema can be automatically generated from training examples, as shown below."
   ]
  },
  {
   "cell_type": "code",
   "execution_count": 19,
   "id": "d2cc2bf0",
   "metadata": {},
   "outputs": [
    {
     "data": {
      "text/plain": [
       "{'input_schema': {'columnar_schema': [{'name': 'month_of_the_ride',\n",
       "    'type': 'int64'},\n",
       "   {'name': 'passenger_count', 'type': 'int64'},\n",
       "   {'name': 'distance', 'type': 'float64'},\n",
       "   {'name': 'pickup_distance_to_jfk', 'type': 'float64'},\n",
       "   {'name': 'dropoff_distance_to_jfk', 'type': 'float64'},\n",
       "   {'name': 'pickup_distance_to_ewr', 'type': 'float64'},\n",
       "   {'name': 'dropoff_distance_to_ewr', 'type': 'float64'},\n",
       "   {'name': 'pickup_distance_to_lgr', 'type': 'float64'},\n",
       "   {'name': 'dropoff_distance_to_lgr', 'type': 'float64'},\n",
       "   {'name': 'year', 'type': 'int64'},\n",
       "   {'name': 'weekday', 'type': 'int64'},\n",
       "   {'name': 'hour', 'type': 'int64'}]},\n",
       " 'output_schema': {'columnar_schema': [{'name': 'total_fare',\n",
       "    'type': 'float64'}]}}"
      ]
     },
     "execution_count": 19,
     "metadata": {},
     "output_type": "execute_result"
    }
   ],
   "source": [
    "from hsml.schema import Schema\n",
    "from hsml.model_schema import ModelSchema\n",
    "\n",
    "input_schema = Schema(X_train)\n",
    "output_schema = Schema(y_train)\n",
    "model_schema = ModelSchema(input_schema=input_schema, output_schema=output_schema)\n",
    "\n",
    "model_schema.to_dict()"
   ]
  },
  {
   "cell_type": "markdown",
   "id": "4f557887",
   "metadata": {},
   "source": [
    "With the schema in place, we can finally register our model."
   ]
  },
  {
   "cell_type": "code",
   "execution_count": 20,
   "id": "19487fd7",
   "metadata": {},
   "outputs": [],
   "source": [
    "metrics = {\n",
    "    'mae': rf_mae,\n",
    "    'r2_score': rf_r2_score\n",
    "}\n"
   ]
  },
  {
   "cell_type": "code",
   "execution_count": 21,
   "id": "cb19b8cf",
   "metadata": {},
   "outputs": [
    {
     "data": {
      "application/vnd.jupyter.widget-view+json": {
       "model_id": "b9bb5310d6f84c798eb2a4d96583f57f",
       "version_major": 2,
       "version_minor": 0
      },
      "text/plain": [
       "  0%|          | 0/6 [00:00<?, ?it/s]"
      ]
     },
     "metadata": {},
     "output_type": "display_data"
    },
    {
     "name": "stdout",
     "output_type": "stream",
     "text": [
      "Model created, explore it at https://0219e3d0-0dbb-11ed-a194-61e8c4026c40.cloud.hopsworks.ai/p/119/models/nyc_taxi_fares_model/1\n"
     ]
    },
    {
     "data": {
      "text/plain": [
       "Model(name: 'nyc_taxi_fares_model', version: 1)"
      ]
     },
     "execution_count": 21,
     "metadata": {},
     "output_type": "execute_result"
    }
   ],
   "source": [
    "model = mr.sklearn.create_model(\n",
    "    name=\"nyc_taxi_fares_model\",\n",
    "    metrics=metrics,\n",
    "    description=\"Random Forest Regressor.\",\n",
    "    input_example=X_train.sample(),\n",
    "    model_schema=model_schema\n",
    ")\n",
    "\n",
    "model.save('model.pkl')"
   ]
  },
  {
   "cell_type": "markdown",
   "id": "6d119ab4",
   "metadata": {},
   "source": [
    "Here we have also saved an input example from the training data, which can be helpful for test purposes.\n",
    "\n",
    "It's important to know that every time you save a model with the same name, a new version of the model will be saved, so nothing will be overwritten. In this way, you can compare several versions of the same model - or create a model with a new name, if you prefer that."
   ]
  },
  {
   "cell_type": "code",
   "execution_count": 22,
   "id": "618ee591",
   "metadata": {},
   "outputs": [],
   "source": [
    "model = mr.get_model(\"nyc_taxi_fares_model\", version = 1)"
   ]
  },
  {
   "cell_type": "code",
   "execution_count": 23,
   "id": "7a97d514",
   "metadata": {},
   "outputs": [
    {
     "data": {
      "text/plain": [
       "Model(name: 'nyc_taxi_fares_model', version: 1)"
      ]
     },
     "execution_count": 23,
     "metadata": {},
     "output_type": "execute_result"
    }
   ],
   "source": [
    "model"
   ]
  },
  {
   "cell_type": "markdown",
   "id": "a4533193",
   "metadata": {},
   "source": [
    "### <a class=\"anchor\" id=\"1.5_bullet\" style=\"color:#525252\"> **Finding the best performing model** </a>\n",
    "\n",
    "\n",
    "Let's imagine you have trained and registered several versions of the same model. Now you can query the model registry for the best model according to your preferred criterion, say F1-score in our case.\n",
    "\n",
    "The `direction` option is used to indicate if the metric should be high or low (max or min); in our case, it should be high (max)."
   ]
  },
  {
   "cell_type": "code",
   "execution_count": 21,
   "id": "23545f61",
   "metadata": {},
   "outputs": [
    {
     "data": {
      "text/plain": [
       "{'id': 'rf_nyc_taxi_fares_model_1',\n",
       " 'experimentId': None,\n",
       " 'projectName': 'tutorials_testing',\n",
       " 'experimentProjectName': 'tutorials_testing',\n",
       " 'name': 'rf_nyc_taxi_fares_model',\n",
       " 'modelSchema': {'href': 'https://hopsworks.glassfish.service.consul:8182/hopsworks-api/api/project/2170/dataset/Projects/tutorials_testing/Models/rf_nyc_taxi_fares_model/1/model_schema.json',\n",
       "  'zip_state': 'NONE'},\n",
       " 'version': 1,\n",
       " 'description': 'Random Forest Regressor without tuning.',\n",
       " 'inputExample': {'href': 'https://hopsworks.glassfish.service.consul:8182/hopsworks-api/api/project/2170/dataset/Projects/tutorials_testing/Models/rf_nyc_taxi_fares_model/1/input_example.json',\n",
       "  'zip_state': 'NONE'},\n",
       " 'framework': 'SKLEARN',\n",
       " 'metrics': {'mae': '8.064275804329625', 'r2_score': '0.7649602622166205'},\n",
       " 'trainingDataset': None,\n",
       " 'environment': ['/Projects/tutorials_testing/Models/rf_nyc_taxi_fares_model/1/environment.yml'],\n",
       " 'program': 'Models/rf_nyc_taxi_fares_model/1/program.ipynb'}"
      ]
     },
     "execution_count": 21,
     "metadata": {},
     "output_type": "execute_result"
    }
   ],
   "source": [
    "best_model = mr.get_best_model(name=\"rf_nyc_taxi_fares_model\", metric=\"r2_score\", direction=\"max\")\n",
    "best_model.to_dict()"
   ]
  },
  {
   "cell_type": "markdown",
   "id": "b22b8a94",
   "metadata": {},
   "source": [
    "## <a class=\"anchor\" id=\"1.5_bullet\" style=\"color:#ff5f27\"> **🚀 Model Deployment** </a>"
   ]
  },
  {
   "cell_type": "code",
   "execution_count": 24,
   "id": "73edd58b",
   "metadata": {},
   "outputs": [
    {
     "name": "stdout",
     "output_type": "stream",
     "text": [
      "Writing predict_example.py\n"
     ]
    }
   ],
   "source": [
    "%%writefile predict_example.py\n",
    "import os\n",
    "import hsfs\n",
    "import joblib\n",
    "import numpy as np\n",
    "import pandas as pd\n",
    "\n",
    "class Predict(object):\n",
    "\n",
    "    def __init__(self):\n",
    "        \"\"\" Initializes the serving state, reads a trained model\"\"\"        \n",
    "        # get feature store handle\n",
    "        fs_conn = hsfs.connection()\n",
    "        self.fs = fs_conn.get_feature_store()\n",
    "        \n",
    "        # load the trained model\n",
    "        self.model = joblib.load(os.environ[\"ARTIFACT_FILES_PATH\"] + \"/model.pkl\")\n",
    "        print(\"Initialization Complete\")\n",
    "\n",
    "    def predict(self, inputs):\n",
    "        \"\"\" Serves a prediction request usign a trained model\"\"\"\n",
    "        return self.model.predict(np.array(inputs).reshape(1, -1)).tolist()"
   ]
  },
  {
   "cell_type": "code",
   "execution_count": null,
   "id": "6c6d8da8",
   "metadata": {},
   "outputs": [],
   "source": [
    "# I have created this file manually cause it was not creating by itself"
   ]
  },
  {
   "cell_type": "code",
   "execution_count": 32,
   "id": "05fc32a4",
   "metadata": {},
   "outputs": [],
   "source": [
    "predictor_script_path = f'hdfs:///Projects/{fs.project_name}/Jupyter/predict_example.py'"
   ]
  },
  {
   "cell_type": "code",
   "execution_count": 38,
   "id": "24e61ddd",
   "metadata": {},
   "outputs": [
    {
     "name": "stdout",
     "output_type": "stream",
     "text": [
      "Deployment created, explore it at https://0219e3d0-0dbb-11ed-a194-61e8c4026c40.cloud.hopsworks.ai/p/119/deployments/2\n",
      "Before making predictions, start the deployment by using `.start()`\n"
     ]
    }
   ],
   "source": [
    "# Give it any name you want\n",
    "deployment = model.deploy(\n",
    "    name=\"nyctaxifares\", \n",
    "    model_server=\"PYTHON\",\n",
    "    script_file=predictor_script_path,\n",
    "    serving_tool = \"KSERVE\"\n",
    ")"
   ]
  },
  {
   "cell_type": "code",
   "execution_count": 39,
   "id": "bf829b85",
   "metadata": {},
   "outputs": [
    {
     "name": "stdout",
     "output_type": "stream",
     "text": [
      "Deployment: nyctaxifares\n",
      "{\n",
      "    \"artifact_version\": 2,\n",
      "    \"batching_configuration\": {\n",
      "        \"batching_enabled\": false\n",
      "    },\n",
      "    \"created\": \"2022-07-27T21:19:41.974Z\",\n",
      "    \"creator\": \"Roman Kaharlytskyi\",\n",
      "    \"id\": 2,\n",
      "    \"inference_logging\": \"NONE\",\n",
      "    \"model_name\": \"nyc_taxi_fares_model\",\n",
      "    \"model_path\": \"/Projects/tutorials/Models/nyc_taxi_fares_model\",\n",
      "    \"model_server\": \"PYTHON\",\n",
      "    \"model_version\": 1,\n",
      "    \"name\": \"nyctaxifares\",\n",
      "    \"predictor\": \"predict_example.py\",\n",
      "    \"predictor_resources\": {\n",
      "        \"limits\": {\n",
      "            \"cores\": 1,\n",
      "            \"gpus\": 0,\n",
      "            \"memory\": 1024\n",
      "        },\n",
      "        \"requests\": {\n",
      "            \"cores\": 1,\n",
      "            \"gpus\": 0,\n",
      "            \"memory\": 1024\n",
      "        }\n",
      "    },\n",
      "    \"requested_instances\": 1,\n",
      "    \"serving_tool\": \"KSERVE\"\n",
      "}\n"
     ]
    }
   ],
   "source": [
    "print(\"Deployment: \" + deployment.name)\n",
    "deployment.describe()"
   ]
  },
  {
   "cell_type": "markdown",
   "id": "4e8a62bd",
   "metadata": {},
   "source": [
    "### The deployment has now been registered. However, to start it you need to run:"
   ]
  },
  {
   "cell_type": "code",
   "execution_count": 40,
   "id": "45e8b339",
   "metadata": {},
   "outputs": [
    {
     "data": {
      "application/vnd.jupyter.widget-view+json": {
       "model_id": "e41c013b0eb242b285d488847d17e6ef",
       "version_major": 2,
       "version_minor": 0
      },
      "text/plain": [
       "  0%|          | 0/1 [00:00<?, ?it/s]"
      ]
     },
     "metadata": {},
     "output_type": "display_data"
    },
    {
     "name": "stdout",
     "output_type": "stream",
     "text": [
      "Start making predictions by using `.predict()`\n"
     ]
    }
   ],
   "source": [
    "deployment.start()"
   ]
  },
  {
   "cell_type": "code",
   "execution_count": 41,
   "id": "09d4bc31",
   "metadata": {},
   "outputs": [
    {
     "name": "stdout",
     "output_type": "stream",
     "text": [
      "Explore all the logs and filters in the Kibana logs at https://0219e3d0-0dbb-11ed-a194-61e8c4026c40.cloud.hopsworks.ai/p/119/deployments/2\n",
      "\n",
      "Instance name: nyctaxifares-predictor-default-00001-deployment-6ddb67d4f-pjtdr\n",
      "[I 220727 21:20:07 kserve-component-server:95] Initializing predictor for deployment: nyctaxifares\n",
      "DeprecationWarning: the imp module is deprecated in favour of importlib; see the module's documentation for alternative uses\n",
      "[I 220727 21:20:08 kfserver:150] Registering model: nyctaxifares\n",
      "[I 220727 21:20:08 kfserver:120] Setting asyncio max_workers as 5\n",
      "[I 220727 21:20:08 kfserver:127] Listening on port 8080\n",
      "[I 220727 21:20:08 kfserver:129] Will fork 1 workers\n",
      "\n",
      "\n"
     ]
    }
   ],
   "source": [
    "deployment.get_logs()"
   ]
  },
  {
   "cell_type": "markdown",
   "id": "a564204b",
   "metadata": {},
   "source": [
    "---\n",
    "## <span style='color:#ff5f27'>🔮 Predicting</span>"
   ]
  },
  {
   "cell_type": "code",
   "execution_count": 42,
   "id": "b6113e01",
   "metadata": {},
   "outputs": [
    {
     "data": {
      "text/plain": [
       "[202001.0,\n",
       " 2.0,\n",
       " 5.1927461547292095,\n",
       " 8.622029740855693,\n",
       " 11.350189727347894,\n",
       " 12.45009815955368,\n",
       " 11.346071320497446,\n",
       " 8.16234767739934,\n",
       " 13.335025097864476,\n",
       " 2020.0,\n",
       " 6.0,\n",
       " 18.0]"
      ]
     },
     "execution_count": 42,
     "metadata": {},
     "output_type": "execute_result"
    }
   ],
   "source": [
    "model.input_example"
   ]
  },
  {
   "cell_type": "code",
   "execution_count": 43,
   "id": "672ff657",
   "metadata": {},
   "outputs": [
    {
     "data": {
      "text/plain": [
       "{'predictions': [120.35]}"
      ]
     },
     "execution_count": 43,
     "metadata": {},
     "output_type": "execute_result"
    }
   ],
   "source": [
    "data = {\n",
    "    \"inputs\": model.input_example\n",
    "}\n",
    "\n",
    "deployment.predict(data)"
   ]
  },
  {
   "cell_type": "markdown",
   "id": "d38f70aa",
   "metadata": {},
   "source": [
    "### Next Steps\n",
    "\n",
    "In the next notebook, we'll look at model serving for the model we just registered to the Model Registry."
   ]
  }
 ],
 "metadata": {
  "kernelspec": {
   "display_name": "Python",
   "language": "python",
   "name": "python3"
  },
  "language_info": {
   "codemirror_mode": {
    "name": "ipython",
    "version": 3
   },
   "file_extension": ".py",
   "mimetype": "text/x-python",
   "name": "python",
   "nbconvert_exporter": "python",
   "pygments_lexer": "ipython3",
   "version": "3.8.11"
  }
 },
 "nbformat": 4,
 "nbformat_minor": 5
}