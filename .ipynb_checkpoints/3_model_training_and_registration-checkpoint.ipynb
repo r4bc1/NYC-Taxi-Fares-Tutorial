{
 "cells": [
  {
   "cell_type": "markdown",
   "id": "9a3a9db1",
   "metadata": {},
   "source": [
    "# <a class=\"anchor\" id=\"1.5_bullet\" style=\"color:#581908\"> **Model training and registration** </a>\n",
    "---\n",
    "\n",
    "In this notebook we will:\n",
    "\n",
    "- Register a model to the model registry.\n",
    "- Fetch the model from the model registry.\n",
    "\n",
    "This will introduce the `hsml` (**H**opsworks **M**achine **L**earning) library, which contains functionality to keep track of models and deploy them.\n",
    "\n",
    "*Note: you need to enable Serving to run this notebook. Go to the **old** Hopsworks UI, click on settings, and check the Serving box.*"
   ]
  },
  {
   "cell_type": "code",
   "execution_count": 1,
   "id": "74acd504",
   "metadata": {},
   "outputs": [
    {
     "name": "stdout",
     "output_type": "stream",
     "text": [
      "Connected. Call `.close()` to terminate connection gracefully.\n"
     ]
    }
   ],
   "source": [
    "import hsfs\n",
    "\n",
    "conn = hsfs.connection()\n",
    "fs = conn.get_feature_store()"
   ]
  },
  {
   "cell_type": "markdown",
   "id": "a2053753",
   "metadata": {},
   "source": [
    "### <a class=\"anchor\" id=\"1.5_bullet\" style=\"color:#3772ff\"> **⬇️ Training Dataset retrieval** </a>"
   ]
  },
  {
   "cell_type": "markdown",
   "id": "1a465f31",
   "metadata": {},
   "source": [
    "To retrieve training dataset from **Feature Store** we retrieve **Feature View** using `FeatureStore.get_feature_view` method.\n",
    "\n",
    "Then we can use **Feature View** in order to retrieve **training dataset** using `FeatureView.get_training_dataset` method.\n"
   ]
  },
  {
   "cell_type": "code",
   "execution_count": 2,
   "id": "5fbce195",
   "metadata": {},
   "outputs": [],
   "source": [
    "nyc_fares_fv = fs.get_feature_view(\n",
    "    name = 'nyc_taxi_fares',\n",
    "    version = 1\n",
    ")"
   ]
  },
  {
   "cell_type": "code",
   "execution_count": 3,
   "id": "9892c1bf",
   "metadata": {},
   "outputs": [
    {
     "name": "stderr",
     "output_type": "stream",
     "text": [
      "FutureWarning: pyarrow.hdfs.HadoopFileSystem is deprecated as of 2.0.0, please use pyarrow.fs.HadoopFileSystem instead.\n"
     ]
    }
   ],
   "source": [
    "X_train, y_train, X_test, y_test = nyc_fares_fv.get_train_test_split(\n",
    "    training_dataset_version=2\n",
    ")"
   ]
  },
  {
   "cell_type": "code",
   "execution_count": 4,
   "id": "ad90a52e",
   "metadata": {},
   "outputs": [],
   "source": [
    "cols_to_drop = ['pickup_datetime', 'ride_id', 'pickup_longitude', 'pickup_latitude',\n",
    "                'dropoff_longitude', 'dropoff_latitude']"
   ]
  },
  {
   "cell_type": "code",
   "execution_count": 5,
   "id": "7b15d4d2",
   "metadata": {},
   "outputs": [],
   "source": [
    "X_train = X_train.drop(cols_to_drop, axis = 1)\n",
    "X_test = X_test.drop(cols_to_drop, axis = 1)"
   ]
  },
  {
   "cell_type": "code",
   "execution_count": 6,
   "id": "373f526d",
   "metadata": {},
   "outputs": [
    {
     "data": {
      "text/html": [
       "<div>\n",
       "<style scoped>\n",
       "    .dataframe tbody tr th:only-of-type {\n",
       "        vertical-align: middle;\n",
       "    }\n",
       "\n",
       "    .dataframe tbody tr th {\n",
       "        vertical-align: top;\n",
       "    }\n",
       "\n",
       "    .dataframe thead th {\n",
       "        text-align: right;\n",
       "    }\n",
       "</style>\n",
       "<table border=\"1\" class=\"dataframe\">\n",
       "  <thead>\n",
       "    <tr style=\"text-align: right;\">\n",
       "      <th></th>\n",
       "      <th>month_of_the_ride</th>\n",
       "      <th>passenger_count</th>\n",
       "      <th>distance</th>\n",
       "      <th>pickup_distance_to_jfk</th>\n",
       "      <th>dropoff_distance_to_jfk</th>\n",
       "      <th>pickup_distance_to_ewr</th>\n",
       "      <th>dropoff_distance_to_ewr</th>\n",
       "      <th>pickup_distance_to_lgr</th>\n",
       "      <th>dropoff_distance_to_lgr</th>\n",
       "      <th>year</th>\n",
       "      <th>weekday</th>\n",
       "      <th>hour</th>\n",
       "    </tr>\n",
       "  </thead>\n",
       "  <tbody>\n",
       "    <tr>\n",
       "      <th>0</th>\n",
       "      <td>202001</td>\n",
       "      <td>2</td>\n",
       "      <td>3.171634</td>\n",
       "      <td>8.236619</td>\n",
       "      <td>8.571996</td>\n",
       "      <td>14.153589</td>\n",
       "      <td>12.520077</td>\n",
       "      <td>4.857851</td>\n",
       "      <td>7.995554</td>\n",
       "      <td>2020</td>\n",
       "      <td>3</td>\n",
       "      <td>10</td>\n",
       "    </tr>\n",
       "    <tr>\n",
       "      <th>1</th>\n",
       "      <td>202001</td>\n",
       "      <td>2</td>\n",
       "      <td>11.271184</td>\n",
       "      <td>8.330694</td>\n",
       "      <td>12.819831</td>\n",
       "      <td>14.602976</td>\n",
       "      <td>11.532286</td>\n",
       "      <td>4.140491</td>\n",
       "      <td>15.337210</td>\n",
       "      <td>2020</td>\n",
       "      <td>0</td>\n",
       "      <td>3</td>\n",
       "    </tr>\n",
       "    <tr>\n",
       "      <th>2</th>\n",
       "      <td>202001</td>\n",
       "      <td>2</td>\n",
       "      <td>0.076534</td>\n",
       "      <td>8.452279</td>\n",
       "      <td>8.434118</td>\n",
       "      <td>14.981048</td>\n",
       "      <td>14.931367</td>\n",
       "      <td>3.567016</td>\n",
       "      <td>3.641130</td>\n",
       "      <td>2020</td>\n",
       "      <td>6</td>\n",
       "      <td>5</td>\n",
       "    </tr>\n",
       "    <tr>\n",
       "      <th>3</th>\n",
       "      <td>202001</td>\n",
       "      <td>2</td>\n",
       "      <td>2.780009</td>\n",
       "      <td>8.837542</td>\n",
       "      <td>8.222081</td>\n",
       "      <td>15.828395</td>\n",
       "      <td>14.033825</td>\n",
       "      <td>2.374279</td>\n",
       "      <td>5.056343</td>\n",
       "      <td>2020</td>\n",
       "      <td>4</td>\n",
       "      <td>11</td>\n",
       "    </tr>\n",
       "    <tr>\n",
       "      <th>4</th>\n",
       "      <td>202001</td>\n",
       "      <td>2</td>\n",
       "      <td>7.333750</td>\n",
       "      <td>8.936653</td>\n",
       "      <td>9.045361</td>\n",
       "      <td>16.009134</td>\n",
       "      <td>12.019719</td>\n",
       "      <td>2.137968</td>\n",
       "      <td>9.314055</td>\n",
       "      <td>2020</td>\n",
       "      <td>4</td>\n",
       "      <td>9</td>\n",
       "    </tr>\n",
       "    <tr>\n",
       "      <th>...</th>\n",
       "      <td>...</td>\n",
       "      <td>...</td>\n",
       "      <td>...</td>\n",
       "      <td>...</td>\n",
       "      <td>...</td>\n",
       "      <td>...</td>\n",
       "      <td>...</td>\n",
       "      <td>...</td>\n",
       "      <td>...</td>\n",
       "      <td>...</td>\n",
       "      <td>...</td>\n",
       "      <td>...</td>\n",
       "    </tr>\n",
       "    <tr>\n",
       "      <th>8356</th>\n",
       "      <td>202001</td>\n",
       "      <td>3</td>\n",
       "      <td>1.697952</td>\n",
       "      <td>15.997191</td>\n",
       "      <td>14.564690</td>\n",
       "      <td>24.283832</td>\n",
       "      <td>22.798006</td>\n",
       "      <td>8.298687</td>\n",
       "      <td>6.613609</td>\n",
       "      <td>2020</td>\n",
       "      <td>2</td>\n",
       "      <td>9</td>\n",
       "    </tr>\n",
       "    <tr>\n",
       "      <th>8357</th>\n",
       "      <td>202001</td>\n",
       "      <td>3</td>\n",
       "      <td>0.343428</td>\n",
       "      <td>15.922413</td>\n",
       "      <td>15.628968</td>\n",
       "      <td>24.207002</td>\n",
       "      <td>23.904434</td>\n",
       "      <td>8.212155</td>\n",
       "      <td>7.870924</td>\n",
       "      <td>2020</td>\n",
       "      <td>3</td>\n",
       "      <td>3</td>\n",
       "    </tr>\n",
       "    <tr>\n",
       "      <th>8358</th>\n",
       "      <td>202001</td>\n",
       "      <td>2</td>\n",
       "      <td>3.257849</td>\n",
       "      <td>8.295911</td>\n",
       "      <td>8.458490</td>\n",
       "      <td>13.103042</td>\n",
       "      <td>14.998066</td>\n",
       "      <td>6.742813</td>\n",
       "      <td>3.541884</td>\n",
       "      <td>2020</td>\n",
       "      <td>5</td>\n",
       "      <td>9</td>\n",
       "    </tr>\n",
       "    <tr>\n",
       "      <th>8359</th>\n",
       "      <td>202001</td>\n",
       "      <td>3</td>\n",
       "      <td>5.765945</td>\n",
       "      <td>16.395889</td>\n",
       "      <td>11.760736</td>\n",
       "      <td>24.692991</td>\n",
       "      <td>19.755214</td>\n",
       "      <td>8.758210</td>\n",
       "      <td>3.081763</td>\n",
       "      <td>2020</td>\n",
       "      <td>4</td>\n",
       "      <td>19</td>\n",
       "    </tr>\n",
       "    <tr>\n",
       "      <th>8360</th>\n",
       "      <td>202001</td>\n",
       "      <td>3</td>\n",
       "      <td>7.186666</td>\n",
       "      <td>19.662671</td>\n",
       "      <td>13.465708</td>\n",
       "      <td>28.000763</td>\n",
       "      <td>21.634102</td>\n",
       "      <td>12.415089</td>\n",
       "      <td>5.274280</td>\n",
       "      <td>2020</td>\n",
       "      <td>3</td>\n",
       "      <td>2</td>\n",
       "    </tr>\n",
       "  </tbody>\n",
       "</table>\n",
       "<p>8361 rows × 12 columns</p>\n",
       "</div>"
      ],
      "text/plain": [
       "      month_of_the_ride  passenger_count   distance  pickup_distance_to_jfk  \\\n",
       "0                202001                2   3.171634                8.236619   \n",
       "1                202001                2  11.271184                8.330694   \n",
       "2                202001                2   0.076534                8.452279   \n",
       "3                202001                2   2.780009                8.837542   \n",
       "4                202001                2   7.333750                8.936653   \n",
       "...                 ...              ...        ...                     ...   \n",
       "8356             202001                3   1.697952               15.997191   \n",
       "8357             202001                3   0.343428               15.922413   \n",
       "8358             202001                2   3.257849                8.295911   \n",
       "8359             202001                3   5.765945               16.395889   \n",
       "8360             202001                3   7.186666               19.662671   \n",
       "\n",
       "      dropoff_distance_to_jfk  pickup_distance_to_ewr  \\\n",
       "0                    8.571996               14.153589   \n",
       "1                   12.819831               14.602976   \n",
       "2                    8.434118               14.981048   \n",
       "3                    8.222081               15.828395   \n",
       "4                    9.045361               16.009134   \n",
       "...                       ...                     ...   \n",
       "8356                14.564690               24.283832   \n",
       "8357                15.628968               24.207002   \n",
       "8358                 8.458490               13.103042   \n",
       "8359                11.760736               24.692991   \n",
       "8360                13.465708               28.000763   \n",
       "\n",
       "      dropoff_distance_to_ewr  pickup_distance_to_lgr  \\\n",
       "0                   12.520077                4.857851   \n",
       "1                   11.532286                4.140491   \n",
       "2                   14.931367                3.567016   \n",
       "3                   14.033825                2.374279   \n",
       "4                   12.019719                2.137968   \n",
       "...                       ...                     ...   \n",
       "8356                22.798006                8.298687   \n",
       "8357                23.904434                8.212155   \n",
       "8358                14.998066                6.742813   \n",
       "8359                19.755214                8.758210   \n",
       "8360                21.634102               12.415089   \n",
       "\n",
       "      dropoff_distance_to_lgr  year  weekday  hour  \n",
       "0                    7.995554  2020        3    10  \n",
       "1                   15.337210  2020        0     3  \n",
       "2                    3.641130  2020        6     5  \n",
       "3                    5.056343  2020        4    11  \n",
       "4                    9.314055  2020        4     9  \n",
       "...                       ...   ...      ...   ...  \n",
       "8356                 6.613609  2020        2     9  \n",
       "8357                 7.870924  2020        3     3  \n",
       "8358                 3.541884  2020        5     9  \n",
       "8359                 3.081763  2020        4    19  \n",
       "8360                 5.274280  2020        3     2  \n",
       "\n",
       "[8361 rows x 12 columns]"
      ]
     },
     "execution_count": 6,
     "metadata": {},
     "output_type": "execute_result"
    }
   ],
   "source": [
    "X_test"
   ]
  },
  {
   "cell_type": "code",
   "execution_count": 7,
   "id": "c13f873e",
   "metadata": {},
   "outputs": [
    {
     "data": {
      "text/html": [
       "<div>\n",
       "<style scoped>\n",
       "    .dataframe tbody tr th:only-of-type {\n",
       "        vertical-align: middle;\n",
       "    }\n",
       "\n",
       "    .dataframe tbody tr th {\n",
       "        vertical-align: top;\n",
       "    }\n",
       "\n",
       "    .dataframe thead th {\n",
       "        text-align: right;\n",
       "    }\n",
       "</style>\n",
       "<table border=\"1\" class=\"dataframe\">\n",
       "  <thead>\n",
       "    <tr style=\"text-align: right;\">\n",
       "      <th></th>\n",
       "      <th>total_fare</th>\n",
       "    </tr>\n",
       "  </thead>\n",
       "  <tbody>\n",
       "    <tr>\n",
       "      <th>0</th>\n",
       "      <td>8.0</td>\n",
       "    </tr>\n",
       "    <tr>\n",
       "      <th>1</th>\n",
       "      <td>14.0</td>\n",
       "    </tr>\n",
       "    <tr>\n",
       "      <th>2</th>\n",
       "      <td>21.0</td>\n",
       "    </tr>\n",
       "    <tr>\n",
       "      <th>3</th>\n",
       "      <td>29.0</td>\n",
       "    </tr>\n",
       "    <tr>\n",
       "      <th>4</th>\n",
       "      <td>30.0</td>\n",
       "    </tr>\n",
       "    <tr>\n",
       "      <th>...</th>\n",
       "      <td>...</td>\n",
       "    </tr>\n",
       "    <tr>\n",
       "      <th>8356</th>\n",
       "      <td>110.0</td>\n",
       "    </tr>\n",
       "    <tr>\n",
       "      <th>8357</th>\n",
       "      <td>110.0</td>\n",
       "    </tr>\n",
       "    <tr>\n",
       "      <th>8358</th>\n",
       "      <td>113.0</td>\n",
       "    </tr>\n",
       "    <tr>\n",
       "      <th>8359</th>\n",
       "      <td>114.0</td>\n",
       "    </tr>\n",
       "    <tr>\n",
       "      <th>8360</th>\n",
       "      <td>143.0</td>\n",
       "    </tr>\n",
       "  </tbody>\n",
       "</table>\n",
       "<p>8361 rows × 1 columns</p>\n",
       "</div>"
      ],
      "text/plain": [
       "      total_fare\n",
       "0            8.0\n",
       "1           14.0\n",
       "2           21.0\n",
       "3           29.0\n",
       "4           30.0\n",
       "...          ...\n",
       "8356       110.0\n",
       "8357       110.0\n",
       "8358       113.0\n",
       "8359       114.0\n",
       "8360       143.0\n",
       "\n",
       "[8361 rows x 1 columns]"
      ]
     },
     "execution_count": 7,
     "metadata": {},
     "output_type": "execute_result"
    }
   ],
   "source": [
    "y_test"
   ]
  },
  {
   "cell_type": "markdown",
   "id": "e52f6034",
   "metadata": {},
   "source": [
    "## 🤖 **Model Building**"
   ]
  },
  {
   "cell_type": "markdown",
   "id": "b890ccd5",
   "metadata": {},
   "source": [
    "- Let's use GradientBoostingRegressor and RandomForestRegressor for demonstration purposes."
   ]
  },
  {
   "cell_type": "markdown",
   "id": "bfb10b91",
   "metadata": {},
   "source": [
    "### <a class=\"anchor\" id=\"1.5_bullet\" style=\"color:#e363a3\"> **📝 Importing Libraries** </a>"
   ]
  },
  {
   "cell_type": "code",
   "execution_count": 8,
   "id": "d117bf50",
   "metadata": {},
   "outputs": [
    {
     "name": "stdout",
     "output_type": "stream",
     "text": [
      "2022-07-28 09:27:29,234 INFO: generated new fontManager\n"
     ]
    }
   ],
   "source": [
    "import matplotlib.pyplot as plt\n",
    "import pandas as pd\n",
    "import seaborn as sns\n",
    "\n",
    "from sklearn.model_selection import train_test_split\n",
    "from sklearn.ensemble import RandomForestRegressor\n",
    "from sklearn.ensemble import GradientBoostingRegressor\n",
    "\n",
    "from sklearn.metrics import r2_score\n",
    "from sklearn.metrics import mean_absolute_error"
   ]
  },
  {
   "cell_type": "markdown",
   "id": "a40a4f28",
   "metadata": {},
   "source": [
    "## <a class=\"anchor\" id=\"1.5_bullet\" style=\"color:#df2935\"> **🧬 Modeling** </a>"
   ]
  },
  {
   "cell_type": "markdown",
   "id": "f73a4f73",
   "metadata": {},
   "source": [
    "### <a class=\"anchor\" id=\"1.5_bullet\" style=\"color:#df2935\"> **🔬 Support Vector Regressor** </a>\n"
   ]
  },
  {
   "cell_type": "code",
   "execution_count": 9,
   "id": "89f02572",
   "metadata": {},
   "outputs": [
    {
     "name": "stderr",
     "output_type": "stream",
     "text": [
      "DataConversionWarning: A column-vector y was passed when a 1d array was expected. Please change the shape of y to (n_samples, ), for example using ravel().\n"
     ]
    },
    {
     "data": {
      "text/html": [
       "<style>#sk-container-id-1 {color: black;background-color: white;}#sk-container-id-1 pre{padding: 0;}#sk-container-id-1 div.sk-toggleable {background-color: white;}#sk-container-id-1 label.sk-toggleable__label {cursor: pointer;display: block;width: 100%;margin-bottom: 0;padding: 0.3em;box-sizing: border-box;text-align: center;}#sk-container-id-1 label.sk-toggleable__label-arrow:before {content: \"▸\";float: left;margin-right: 0.25em;color: #696969;}#sk-container-id-1 label.sk-toggleable__label-arrow:hover:before {color: black;}#sk-container-id-1 div.sk-estimator:hover label.sk-toggleable__label-arrow:before {color: black;}#sk-container-id-1 div.sk-toggleable__content {max-height: 0;max-width: 0;overflow: hidden;text-align: left;background-color: #f0f8ff;}#sk-container-id-1 div.sk-toggleable__content pre {margin: 0.2em;color: black;border-radius: 0.25em;background-color: #f0f8ff;}#sk-container-id-1 input.sk-toggleable__control:checked~div.sk-toggleable__content {max-height: 200px;max-width: 100%;overflow: auto;}#sk-container-id-1 input.sk-toggleable__control:checked~label.sk-toggleable__label-arrow:before {content: \"▾\";}#sk-container-id-1 div.sk-estimator input.sk-toggleable__control:checked~label.sk-toggleable__label {background-color: #d4ebff;}#sk-container-id-1 div.sk-label input.sk-toggleable__control:checked~label.sk-toggleable__label {background-color: #d4ebff;}#sk-container-id-1 input.sk-hidden--visually {border: 0;clip: rect(1px 1px 1px 1px);clip: rect(1px, 1px, 1px, 1px);height: 1px;margin: -1px;overflow: hidden;padding: 0;position: absolute;width: 1px;}#sk-container-id-1 div.sk-estimator {font-family: monospace;background-color: #f0f8ff;border: 1px dotted black;border-radius: 0.25em;box-sizing: border-box;margin-bottom: 0.5em;}#sk-container-id-1 div.sk-estimator:hover {background-color: #d4ebff;}#sk-container-id-1 div.sk-parallel-item::after {content: \"\";width: 100%;border-bottom: 1px solid gray;flex-grow: 1;}#sk-container-id-1 div.sk-label:hover label.sk-toggleable__label {background-color: #d4ebff;}#sk-container-id-1 div.sk-serial::before {content: \"\";position: absolute;border-left: 1px solid gray;box-sizing: border-box;top: 0;bottom: 0;left: 50%;z-index: 0;}#sk-container-id-1 div.sk-serial {display: flex;flex-direction: column;align-items: center;background-color: white;padding-right: 0.2em;padding-left: 0.2em;position: relative;}#sk-container-id-1 div.sk-item {position: relative;z-index: 1;}#sk-container-id-1 div.sk-parallel {display: flex;align-items: stretch;justify-content: center;background-color: white;position: relative;}#sk-container-id-1 div.sk-item::before, #sk-container-id-1 div.sk-parallel-item::before {content: \"\";position: absolute;border-left: 1px solid gray;box-sizing: border-box;top: 0;bottom: 0;left: 50%;z-index: -1;}#sk-container-id-1 div.sk-parallel-item {display: flex;flex-direction: column;z-index: 1;position: relative;background-color: white;}#sk-container-id-1 div.sk-parallel-item:first-child::after {align-self: flex-end;width: 50%;}#sk-container-id-1 div.sk-parallel-item:last-child::after {align-self: flex-start;width: 50%;}#sk-container-id-1 div.sk-parallel-item:only-child::after {width: 0;}#sk-container-id-1 div.sk-dashed-wrapped {border: 1px dashed gray;margin: 0 0.4em 0.5em 0.4em;box-sizing: border-box;padding-bottom: 0.4em;background-color: white;}#sk-container-id-1 div.sk-label label {font-family: monospace;font-weight: bold;display: inline-block;line-height: 1.2em;}#sk-container-id-1 div.sk-label-container {text-align: center;}#sk-container-id-1 div.sk-container {/* jupyter's `normalize.less` sets `[hidden] { display: none; }` but bootstrap.min.css set `[hidden] { display: none !important; }` so we also need the `!important` here to be able to override the default hidden behavior on the sphinx rendered scikit-learn.org. See: https://github.com/scikit-learn/scikit-learn/issues/21755 */display: inline-block !important;position: relative;}#sk-container-id-1 div.sk-text-repr-fallback {display: none;}</style><div id=\"sk-container-id-1\" class=\"sk-top-container\"><div class=\"sk-text-repr-fallback\"><pre>GradientBoostingRegressor()</pre><b>In a Jupyter environment, please rerun this cell to show the HTML representation or trust the notebook. <br />On GitHub, the HTML representation is unable to render, please try loading this page with nbviewer.org.</b></div><div class=\"sk-container\" hidden><div class=\"sk-item\"><div class=\"sk-estimator sk-toggleable\"><input class=\"sk-toggleable__control sk-hidden--visually\" id=\"sk-estimator-id-1\" type=\"checkbox\" checked><label for=\"sk-estimator-id-1\" class=\"sk-toggleable__label sk-toggleable__label-arrow\">GradientBoostingRegressor</label><div class=\"sk-toggleable__content\"><pre>GradientBoostingRegressor()</pre></div></div></div></div></div>"
      ],
      "text/plain": [
       "GradientBoostingRegressor()"
      ]
     },
     "execution_count": 9,
     "metadata": {},
     "output_type": "execute_result"
    }
   ],
   "source": [
    "gbr_model = GradientBoostingRegressor()\n",
    "\n",
    "gbr_model.fit(X_train, y_train)"
   ]
  },
  {
   "cell_type": "code",
   "execution_count": 10,
   "id": "7de13696",
   "metadata": {},
   "outputs": [
    {
     "name": "stdout",
     "output_type": "stream",
     "text": [
      "Gradient Boosting Regressor R²: 0.7508271470307326\n",
      "Gradient Boosting Regressor MAE: 8.897527826373544\n"
     ]
    }
   ],
   "source": [
    "gbr_preds = gbr_model.predict(X_test)\n",
    "\n",
    "gbr_r2_score = r2_score(y_test, gbr_preds)\n",
    "gbr_mae = mean_absolute_error(y_test, gbr_preds)\n",
    "\n",
    "print(\"Gradient Boosting Regressor R²:\", gbr_r2_score)\n",
    "print(\"Gradient Boosting Regressor MAE:\", gbr_mae)"
   ]
  },
  {
   "cell_type": "code",
   "execution_count": 11,
   "id": "8ba58e86",
   "metadata": {},
   "outputs": [
    {
     "data": {
      "image/png": "[encoded data removed]",
      "text/plain": [
       "<Figure size 640x480 with 1 Axes>"
      ]
     },
     "metadata": {},
     "output_type": "display_data"
    }
   ],
   "source": [
    "sns.residplot(y_test, gbr_preds, color='#7EA172')\n",
    "plt.title('Model Residuals')\n",
    "plt.xlabel('Obsevation #')\n",
    "plt.ylabel('Error')\n",
    "\n",
    "plt.show()"
   ]
  },
  {
   "cell_type": "markdown",
   "id": "7bed8603",
   "metadata": {},
   "source": [
    "### <a class=\"anchor\" id=\"1.5_bullet\" style=\"color:#df2935\"> **🔬 Random Forest Regressor** </a>\n"
   ]
  },
  {
   "cell_type": "code",
   "execution_count": 12,
   "id": "956bb0fe",
   "metadata": {},
   "outputs": [
    {
     "name": "stderr",
     "output_type": "stream",
     "text": [
      "DataConversionWarning: A column-vector y was passed when a 1d array was expected. Please change the shape of y to (n_samples,), for example using ravel().\n"
     ]
    },
    {
     "data": {
      "text/html": [
       "<style>#sk-container-id-2 {color: black;background-color: white;}#sk-container-id-2 pre{padding: 0;}#sk-container-id-2 div.sk-toggleable {background-color: white;}#sk-container-id-2 label.sk-toggleable__label {cursor: pointer;display: block;width: 100%;margin-bottom: 0;padding: 0.3em;box-sizing: border-box;text-align: center;}#sk-container-id-2 label.sk-toggleable__label-arrow:before {content: \"▸\";float: left;margin-right: 0.25em;color: #696969;}#sk-container-id-2 label.sk-toggleable__label-arrow:hover:before {color: black;}#sk-container-id-2 div.sk-estimator:hover label.sk-toggleable__label-arrow:before {color: black;}#sk-container-id-2 div.sk-toggleable__content {max-height: 0;max-width: 0;overflow: hidden;text-align: left;background-color: #f0f8ff;}#sk-container-id-2 div.sk-toggleable__content pre {margin: 0.2em;color: black;border-radius: 0.25em;background-color: #f0f8ff;}#sk-container-id-2 input.sk-toggleable__control:checked~div.sk-toggleable__content {max-height: 200px;max-width: 100%;overflow: auto;}#sk-container-id-2 input.sk-toggleable__control:checked~label.sk-toggleable__label-arrow:before {content: \"▾\";}#sk-container-id-2 div.sk-estimator input.sk-toggleable__control:checked~label.sk-toggleable__label {background-color: #d4ebff;}#sk-container-id-2 div.sk-label input.sk-toggleable__control:checked~label.sk-toggleable__label {background-color: #d4ebff;}#sk-container-id-2 input.sk-hidden--visually {border: 0;clip: rect(1px 1px 1px 1px);clip: rect(1px, 1px, 1px, 1px);height: 1px;margin: -1px;overflow: hidden;padding: 0;position: absolute;width: 1px;}#sk-container-id-2 div.sk-estimator {font-family: monospace;background-color: #f0f8ff;border: 1px dotted black;border-radius: 0.25em;box-sizing: border-box;margin-bottom: 0.5em;}#sk-container-id-2 div.sk-estimator:hover {background-color: #d4ebff;}#sk-container-id-2 div.sk-parallel-item::after {content: \"\";width: 100%;border-bottom: 1px solid gray;flex-grow: 1;}#sk-container-id-2 div.sk-label:hover label.sk-toggleable__label {background-color: #d4ebff;}#sk-container-id-2 div.sk-serial::before {content: \"\";position: absolute;border-left: 1px solid gray;box-sizing: border-box;top: 0;bottom: 0;left: 50%;z-index: 0;}#sk-container-id-2 div.sk-serial {display: flex;flex-direction: column;align-items: center;background-color: white;padding-right: 0.2em;padding-left: 0.2em;position: relative;}#sk-container-id-2 div.sk-item {position: relative;z-index: 1;}#sk-container-id-2 div.sk-parallel {display: flex;align-items: stretch;justify-content: center;background-color: white;position: relative;}#sk-container-id-2 div.sk-item::before, #sk-container-id-2 div.sk-parallel-item::before {content: \"\";position: absolute;border-left: 1px solid gray;box-sizing: border-box;top: 0;bottom: 0;left: 50%;z-index: -1;}#sk-container-id-2 div.sk-parallel-item {display: flex;flex-direction: column;z-index: 1;position: relative;background-color: white;}#sk-container-id-2 div.sk-parallel-item:first-child::after {align-self: flex-end;width: 50%;}#sk-container-id-2 div.sk-parallel-item:last-child::after {align-self: flex-start;width: 50%;}#sk-container-id-2 div.sk-parallel-item:only-child::after {width: 0;}#sk-container-id-2 div.sk-dashed-wrapped {border: 1px dashed gray;margin: 0 0.4em 0.5em 0.4em;box-sizing: border-box;padding-bottom: 0.4em;background-color: white;}#sk-container-id-2 div.sk-label label {font-family: monospace;font-weight: bold;display: inline-block;line-height: 1.2em;}#sk-container-id-2 div.sk-label-container {text-align: center;}#sk-container-id-2 div.sk-container {/* jupyter's `normalize.less` sets `[hidden] { display: none; }` but bootstrap.min.css set `[hidden] { display: none !important; }` so we also need the `!important` here to be able to override the default hidden behavior on the sphinx rendered scikit-learn.org. See: https://github.com/scikit-learn/scikit-learn/issues/21755 */display: inline-block !important;position: relative;}#sk-container-id-2 div.sk-text-repr-fallback {display: none;}</style><div id=\"sk-container-id-2\" class=\"sk-top-container\"><div class=\"sk-text-repr-fallback\"><pre>RandomForestRegressor(n_jobs=-1, random_state=42)</pre><b>In a Jupyter environment, please rerun this cell to show the HTML representation or trust the notebook. <br />On GitHub, the HTML representation is unable to render, please try loading this page with nbviewer.org.</b></div><div class=\"sk-container\" hidden><div class=\"sk-item\"><div class=\"sk-estimator sk-toggleable\"><input class=\"sk-toggleable__control sk-hidden--visually\" id=\"sk-estimator-id-2\" type=\"checkbox\" checked><label for=\"sk-estimator-id-2\" class=\"sk-toggleable__label sk-toggleable__label-arrow\">RandomForestRegressor</label><div class=\"sk-toggleable__content\"><pre>RandomForestRegressor(n_jobs=-1, random_state=42)</pre></div></div></div></div></div>"
      ],
      "text/plain": [
       "RandomForestRegressor(n_jobs=-1, random_state=42)"
      ]
     },
     "execution_count": 12,
     "metadata": {},
     "output_type": "execute_result"
    }
   ],
   "source": [
    "rf_model = RandomForestRegressor(\n",
    "    n_jobs = -1,\n",
    "    random_state = 42\n",
    ")\n",
    "\n",
    "rf_model.fit(X_train, y_train)"
   ]
  },
  {
   "cell_type": "code",
   "execution_count": 13,
   "id": "66ef454e",
   "metadata": {},
   "outputs": [
    {
     "name": "stdout",
     "output_type": "stream",
     "text": [
      "Random Forest Regressor R²: 0.7649602622166205\n",
      "Random Forest Regressor MAE: 8.064275804329625\n"
     ]
    }
   ],
   "source": [
    "rf_preds = rf_model.predict(X_test)\n",
    "\n",
    "rf_r2_score = r2_score(y_test, rf_preds)\n",
    "rf_mae = mean_absolute_error(y_test, rf_preds)\n",
    "\n",
    "print(\"Random Forest Regressor R²:\", rf_r2_score)\n",
    "print(\"Random Forest Regressor MAE:\", rf_mae)"
   ]
  },
  {
   "cell_type": "code",
   "execution_count": 14,
   "id": "c229cb7f",
   "metadata": {},
   "outputs": [
    {
     "data": {
      "image/png": "[encoded data removed]",
      "text/plain": [
       "<Figure size 640x480 with 1 Axes>"
      ]
     },
     "metadata": {},
     "output_type": "display_data"
    }
   ],
   "source": [
    "sns.residplot(y_test, rf_preds, color='#613F75')\n",
    "plt.title('Model Residuals')\n",
    "plt.xlabel('Obsevation #')\n",
    "plt.ylabel('Error')\n",
    "\n",
    "plt.show()"
   ]
  },
  {
   "cell_type": "markdown",
   "id": "563ec4aa",
   "metadata": {},
   "source": [
    "The Random Forest did a better job, so we will register this specififc model."
   ]
  },
  {
   "cell_type": "markdown",
   "id": "06a5f9b1",
   "metadata": {},
   "source": [
    "## <a class=\"anchor\" id=\"1.5_bullet\" style=\"color:#525252\"> **📝 Register model** </a>\n",
    "\n",
    "\n",
    "One of the features in Hopsworks is the model registry. This is where we can store different versions of models and compare their performance. Models from the registry can then be served as API endpoints.\n",
    "\n",
    "Let's connect to the model registry using the [HSML library](https://docs.hopsworks.ai/machine-learning-api/latest) from Hopsworks."
   ]
  },
  {
   "cell_type": "code",
   "execution_count": 15,
   "id": "fc5d1791",
   "metadata": {},
   "outputs": [
    {
     "name": "stdout",
     "output_type": "stream",
     "text": [
      "Connected. Call `.close()` to terminate connection gracefully.\n"
     ]
    }
   ],
   "source": [
    "import hsml\n",
    "\n",
    "conn = hsml.connection()\n",
    "mr = conn.get_model_registry()"
   ]
  },
  {
   "cell_type": "markdown",
   "id": "8c4ca65e",
   "metadata": {},
   "source": [
    "Before registering the model we will export it as a pickle file using joblib."
   ]
  },
  {
   "cell_type": "code",
   "execution_count": 16,
   "id": "d927392c",
   "metadata": {},
   "outputs": [
    {
     "data": {
      "text/plain": [
       "['model.pkl']"
      ]
     },
     "execution_count": 16,
     "metadata": {},
     "output_type": "execute_result"
    }
   ],
   "source": [
    "import joblib\n",
    "\n",
    "joblib.dump(rf_model, 'model.pkl')"
   ]
  },
  {
   "cell_type": "markdown",
   "id": "19fdea0c",
   "metadata": {},
   "source": [
    "### <a class=\"anchor\" id=\"1.5_bullet\" style=\"color:#525252\"> **Model Schema** </a>\n"
   ]
  },
  {
   "cell_type": "markdown",
   "id": "9a11fe2d",
   "metadata": {},
   "source": [
    "The model needs to be set up with a [Model Schema](https://docs.hopsworks.ai/machine-learning-api/latest/generated/model_schema/), which describes the inputs and outputs for a model.\n",
    "\n",
    "A Model Schema can be automatically generated from training examples, as shown below."
   ]
  },
  {
   "cell_type": "code",
   "execution_count": 17,
   "id": "8b83206a",
   "metadata": {},
   "outputs": [
    {
     "data": {
      "text/plain": [
       "{'input_schema': {'columnar_schema': [{'name': 'month_of_the_ride',\n",
       "    'type': 'int64'},\n",
       "   {'name': 'passenger_count', 'type': 'int64'},\n",
       "   {'name': 'distance', 'type': 'float64'},\n",
       "   {'name': 'pickup_distance_to_jfk', 'type': 'float64'},\n",
       "   {'name': 'dropoff_distance_to_jfk', 'type': 'float64'},\n",
       "   {'name': 'pickup_distance_to_ewr', 'type': 'float64'},\n",
       "   {'name': 'dropoff_distance_to_ewr', 'type': 'float64'},\n",
       "   {'name': 'pickup_distance_to_lgr', 'type': 'float64'},\n",
       "   {'name': 'dropoff_distance_to_lgr', 'type': 'float64'},\n",
       "   {'name': 'year', 'type': 'int64'},\n",
       "   {'name': 'weekday', 'type': 'int64'},\n",
       "   {'name': 'hour', 'type': 'int64'}]},\n",
       " 'output_schema': {'columnar_schema': [{'name': 'total_fare',\n",
       "    'type': 'float64'}]}}"
      ]
     },
     "execution_count": 17,
     "metadata": {},
     "output_type": "execute_result"
    }
   ],
   "source": [
    "from hsml.schema import Schema\n",
    "from hsml.model_schema import ModelSchema\n",
    "\n",
    "input_schema = Schema(X_train)\n",
    "output_schema = Schema(y_train)\n",
    "model_schema = ModelSchema(input_schema=input_schema, output_schema=output_schema)\n",
    "\n",
    "model_schema.to_dict()"
   ]
  },
  {
   "cell_type": "markdown",
   "id": "a9d97039",
   "metadata": {},
   "source": [
    "With the schema in place, we can finally register our model."
   ]
  },
  {
   "cell_type": "code",
   "execution_count": 18,
   "id": "1a3a2ad5",
   "metadata": {},
   "outputs": [],
   "source": [
    "metrics = {\n",
    "    'mae': rf_mae,\n",
    "    'r2_score': rf_r2_score\n",
    "}\n"
   ]
  },
  {
   "cell_type": "code",
   "execution_count": 19,
   "id": "b6401573",
   "metadata": {},
   "outputs": [
    {
     "data": {
      "application/vnd.jupyter.widget-view+json": {
       "model_id": "f17c46994ba34894b3c61e00149df641",
       "version_major": 2,
       "version_minor": 0
      },
      "text/plain": [
       "  0%|          | 0/6 [00:00<?, ?it/s]"
      ]
     },
     "metadata": {},
     "output_type": "display_data"
    },
    {
     "name": "stdout",
     "output_type": "stream",
     "text": [
      "Model created, explore it at https://0f060790-06a4-11ed-8aed-d1422d4ec537.cloud.hopsworks.ai/p/2170/models/nyc_taxi_fares_model/1\n"
     ]
    },
    {
     "data": {
      "text/plain": [
       "Model(name: 'nyc_taxi_fares_model', version: 1)"
      ]
     },
     "execution_count": 19,
     "metadata": {},
     "output_type": "execute_result"
    }
   ],
   "source": [
    "model = mr.sklearn.create_model(\n",
    "    name=\"nyc_taxi_fares_model\",\n",
    "    metrics=metrics,\n",
    "    description=\"Random Forest Regressor.\",\n",
    "    input_example=X_train.sample(),\n",
    "    model_schema=model_schema\n",
    ")\n",
    "\n",
    "model.save('model.pkl')"
   ]
  },
  {
   "cell_type": "markdown",
   "id": "cb89b339",
   "metadata": {},
   "source": [
    "Here we have also saved an input example from the training data, which can be helpful for test purposes.\n",
    "\n",
    "It's important to know that every time you save a model with the same name, a new version of the model will be saved, so nothing will be overwritten. In this way, you can compare several versions of the same model - or create a model with a new name, if you prefer that."
   ]
  },
  {
   "cell_type": "code",
   "execution_count": 20,
   "id": "28b8e850",
   "metadata": {},
   "outputs": [],
   "source": [
    "model = mr.get_model(\"nyc_taxi_fares_model\", version = 1)"
   ]
  },
  {
   "cell_type": "code",
   "execution_count": 21,
   "id": "9da05a52",
   "metadata": {},
   "outputs": [
    {
     "data": {
      "text/plain": [
       "Model(name: 'nyc_taxi_fares_model', version: 1)"
      ]
     },
     "execution_count": 21,
     "metadata": {},
     "output_type": "execute_result"
    }
   ],
   "source": [
    "model"
   ]
  },
  {
   "cell_type": "markdown",
   "id": "ea83fcd0",
   "metadata": {},
   "source": [
    "## <a class=\"anchor\" id=\"1.5_bullet\" style=\"color:#ff5f27\"> **🚀 Model Deployment** </a>"
   ]
  },
  {
   "cell_type": "code",
   "execution_count": 26,
   "id": "420fe814",
   "metadata": {},
   "outputs": [
    {
     "name": "stdout",
     "output_type": "stream",
     "text": [
      "Writing predict_example.py\n"
     ]
    }
   ],
   "source": [
    "%%writefile predict_example.py\n",
    "import os\n",
    "import hsfs\n",
    "import joblib\n",
    "import numpy as np\n",
    "import pandas as pd\n",
    "\n",
    "class Predict(object):\n",
    "\n",
    "    def __init__(self):\n",
    "        \"\"\" Initializes the serving state, reads a trained model\"\"\"        \n",
    "        # get feature store handle\n",
    "        fs_conn = hsfs.connection()\n",
    "        self.fs = fs_conn.get_feature_store()\n",
    "        \n",
    "        # load the trained model\n",
    "        self.model = joblib.load(os.environ[\"ARTIFACT_FILES_PATH\"] + \"/model.pkl\")\n",
    "        print(\"Initialization Complete\")\n",
    "\n",
    "    def predict(self, inputs):\n",
    "        \"\"\" Serves a prediction request usign a trained model\"\"\"\n",
    "        return self.model.predict(np.array(inputs).reshape(1, -1)).tolist()"
   ]
  },
  {
   "cell_type": "code",
   "execution_count": null,
   "id": "b40bd597",
   "metadata": {},
   "outputs": [],
   "source": [
    "# I have created this file manually cause it was not creating by itself"
   ]
  },
  {
   "cell_type": "code",
   "execution_count": 27,
   "id": "7aa3dd15",
   "metadata": {},
   "outputs": [],
   "source": [
    "predictor_script_path = f'hdfs:///Projects/{fs.project_name}/Jupyter/predict_example.py'"
   ]
  },
  {
   "cell_type": "code",
   "execution_count": 28,
   "id": "d6f3c2ed",
   "metadata": {},
   "outputs": [
    {
     "name": "stdout",
     "output_type": "stream",
     "text": [
      "Deployment created, explore it at https://0f060790-06a4-11ed-8aed-d1422d4ec537.cloud.hopsworks.ai/p/2170/deployments/2067\n",
      "Before making predictions, start the deployment by using `.start()`\n"
     ]
    }
   ],
   "source": [
    "# Give it any name you want\n",
    "deployment = model.deploy(\n",
    "    name=\"nyctaxifares\", \n",
    "    model_server=\"PYTHON\",\n",
    "    script_file=predictor_script_path,\n",
    "    serving_tool = \"KSERVE\"\n",
    ")"
   ]
  },
  {
   "cell_type": "code",
   "execution_count": 29,
   "id": "2263dc23",
   "metadata": {},
   "outputs": [
    {
     "name": "stdout",
     "output_type": "stream",
     "text": [
      "Deployment: nyctaxifares\n",
      "{\n",
      "    \"artifact_version\": 1,\n",
      "    \"batching_configuration\": {\n",
      "        \"batching_enabled\": false\n",
      "    },\n",
      "    \"created\": \"2022-07-28T09:47:30.678Z\",\n",
      "    \"creator\": \"Roman Kaharlytskyi\",\n",
      "    \"id\": 2067,\n",
      "    \"inference_logging\": \"NONE\",\n",
      "    \"model_name\": \"nyc_taxi_fares_model\",\n",
      "    \"model_path\": \"/Projects/tutorials_testing/Models/nyc_taxi_fares_model\",\n",
      "    \"model_server\": \"PYTHON\",\n",
      "    \"model_version\": 1,\n",
      "    \"name\": \"nyctaxifares\",\n",
      "    \"predictor\": \"predict_example.py\",\n",
      "    \"predictor_resources\": {\n",
      "        \"limits\": {\n",
      "            \"cores\": 1,\n",
      "            \"gpus\": 0,\n",
      "            \"memory\": 1024\n",
      "        },\n",
      "        \"requests\": {\n",
      "            \"cores\": 1,\n",
      "            \"gpus\": 0,\n",
      "            \"memory\": 1024\n",
      "        }\n",
      "    },\n",
      "    \"requested_instances\": 1,\n",
      "    \"serving_tool\": \"KSERVE\"\n",
      "}\n"
     ]
    }
   ],
   "source": [
    "print(\"Deployment: \" + deployment.name)\n",
    "deployment.describe()"
   ]
  },
  {
   "cell_type": "markdown",
   "id": "9d6aa390",
   "metadata": {},
   "source": [
    "### The deployment has now been registered. However, to start it you need to run:"
   ]
  },
  {
   "cell_type": "code",
   "execution_count": 30,
   "id": "f9f0badb",
   "metadata": {},
   "outputs": [
    {
     "data": {
      "application/vnd.jupyter.widget-view+json": {
       "model_id": "216bdecb9e2143a4bfbb3ddd23895a39",
       "version_major": 2,
       "version_minor": 0
      },
      "text/plain": [
       "  0%|          | 0/1 [00:00<?, ?it/s]"
      ]
     },
     "metadata": {},
     "output_type": "display_data"
    },
    {
     "name": "stdout",
     "output_type": "stream",
     "text": [
      "Start making predictions by using `.predict()`\n"
     ]
    }
   ],
   "source": [
    "deployment.start()"
   ]
  },
  {
   "cell_type": "code",
   "execution_count": 31,
   "id": "719b4c99",
   "metadata": {},
   "outputs": [
    {
     "name": "stdout",
     "output_type": "stream",
     "text": [
      "Explore all the logs and filters in the Kibana logs at https://0f060790-06a4-11ed-8aed-d1422d4ec537.cloud.hopsworks.ai/p/2170/deployments/2067\n",
      "\n",
      "Instance name: nyctaxifares-predictor-default-00001-deployment-c5cbfb4df-lv54r\n",
      "[I 220728 09:47:55 kserve-component-server:95] Initializing predictor for deployment: nyctaxifares\n",
      "DeprecationWarning: the imp module is deprecated in favour of importlib; see the module's documentation for alternative uses\n",
      "[I 220728 09:47:56 kfserver:150] Registering model: nyctaxifares\n",
      "[I 220728 09:47:56 kfserver:120] Setting asyncio max_workers as 5\n",
      "[I 220728 09:47:56 kfserver:127] Listening on port 8080\n",
      "[I 220728 09:47:56 kfserver:129] Will fork 1 workers\n",
      "\n",
      "\n"
     ]
    }
   ],
   "source": [
    "deployment.get_logs()"
   ]
  },
  {
   "cell_type": "markdown",
   "id": "e09438ef",
   "metadata": {},
   "source": [
    "---\n",
    "## <span style='color:#ff5f27'>🔮 Predicting</span>"
   ]
  },
  {
   "cell_type": "code",
   "execution_count": 32,
   "id": "f23431e4",
   "metadata": {},
   "outputs": [
    {
     "data": {
      "text/plain": [
       "[202001.0,\n",
       " 2.0,\n",
       " 1.5703191792504667,\n",
       " 8.968786831126206,\n",
       " 9.709475070370804,\n",
       " 16.066152859109724,\n",
       " 17.212637732135967,\n",
       " 2.065254190970983,\n",
       " 0.9497771793041722,\n",
       " 2020.0,\n",
       " 1.0,\n",
       " 9.0]"
      ]
     },
     "execution_count": 32,
     "metadata": {},
     "output_type": "execute_result"
    }
   ],
   "source": [
    "model.input_example"
   ]
  },
  {
   "cell_type": "code",
   "execution_count": 33,
   "id": "69757428",
   "metadata": {},
   "outputs": [
    {
     "data": {
      "text/plain": [
       "{'predictions': [33.34]}"
      ]
     },
     "execution_count": 33,
     "metadata": {},
     "output_type": "execute_result"
    }
   ],
   "source": [
    "data = {\n",
    "    \"inputs\": model.input_example\n",
    "}\n",
    "\n",
    "deployment.predict(data)"
   ]
  },
  {
   "cell_type": "code",
   "execution_count": 34,
   "id": "3790cd54",
   "metadata": {},
   "outputs": [
    {
     "data": {
      "application/vnd.jupyter.widget-view+json": {
       "model_id": "5316e45849ed4708831d0c76875517e4",
       "version_major": 2,
       "version_minor": 0
      },
      "text/plain": [
       "  0%|          | 0/1 [00:00<?, ?it/s]"
      ]
     },
     "metadata": {},
     "output_type": "display_data"
    }
   ],
   "source": [
    "deployment.stop()"
   ]
  }
 ],
 "metadata": {
  "kernelspec": {
   "display_name": "Python 3 (ipykernel)",
   "language": "python",
   "name": "python3"
  },
  "language_info": {
   "codemirror_mode": {
    "name": "ipython",
    "version": 3
   },
   "file_extension": ".py",
   "mimetype": "text/x-python",
   "name": "python",
   "nbconvert_exporter": "python",
   "pygments_lexer": "ipython3",
   "version": "3.10.4"
  }
 },
 "nbformat": 4,
 "nbformat_minor": 5
}
