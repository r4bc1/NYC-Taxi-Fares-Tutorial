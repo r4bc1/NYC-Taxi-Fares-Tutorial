{
 "cells": [
  {
   "cell_type": "markdown",
   "metadata": {},
   "source": [
    "# <a class=\"anchor\" id=\"1.5_bullet\" style=\"color:#533a7b\"> **Dataset Creation** </a>\n",
    "---\n",
    "\n",
    "\n",
    "In this notebook, we will create the actual dataset that we will train our model on. In particular, we will:\n",
    "1. Select the features we want to train our model on.\n",
    "2. Specify how the features should be preprocessed.\n",
    "3. Create a dataset split for training and validation data.\n",
    "\n",
    "![tutorial-flow](images/create_training_dataset.png)"
   ]
  },
  {
   "cell_type": "markdown",
   "metadata": {},
   "source": [
    "### <a class=\"anchor\" id=\"1.5_bullet\" style=\"color:#e363a3\"> **📝 Importing Libraries** </a>"
   ]
  },
  {
   "cell_type": "code",
   "execution_count": 1,
   "metadata": {},
   "outputs": [
    {
     "name": "stdout",
     "output_type": "stream",
     "text": [
      "Connected. Call `.close()` to terminate connection gracefully.\n"
     ]
    }
   ],
   "source": [
    "import hsfs\n",
    "\n",
    "conn = hsfs.connection()\n",
    "fs = conn.get_feature_store()"
   ]
  },
  {
   "cell_type": "markdown",
   "metadata": {},
   "source": [
    "### <a class=\"anchor\" id=\"1.5_bullet\" style=\"color:#3772ff\"> **⬇️ Data retrieving from Feature Groups** </a>\n",
    "\n",
    "We start by selecting all the features we want to include for model training/inference."
   ]
  },
  {
   "cell_type": "code",
   "execution_count": 2,
   "metadata": {},
   "outputs": [
    {
     "name": "stderr",
     "output_type": "stream",
     "text": [
      "VersionWarning: No version provided for getting feature group `fares_fg`, defaulting to `1`.\n",
      "VersionWarning: No version provided for getting feature group `rides_fg`, defaulting to `1`.\n"
     ]
    }
   ],
   "source": [
    "# Load feature groups.\n",
    "fares_fg = fs.get_feature_group(\"fares_fg\")\n",
    "rides_fg = fs.get_feature_group(\"rides_fg\")\n",
    "\n",
    "# Select features for training data.\n",
    "fg_query = fares_fg.select(['total_fare', 'pickup_datetime', 'month_of_the_ride'])\\\n",
    "                            .join(rides_fg.select_except(['taxi_id',\n",
    "                                  'driver_id']), on=['ride_id', 'pickup_datetime', 'month_of_the_ride'])"
   ]
  },
  {
   "cell_type": "code",
   "execution_count": 3,
   "metadata": {},
   "outputs": [
    {
     "name": "stdout",
     "output_type": "stream",
     "text": [
      "2022-05-22 21:12:14,950 INFO: USE `nyc_taxi_fares_featurestore`\n",
      "2022-05-22 21:12:15,710 INFO: WITH right_fg0 AS (SELECT *\n",
      "FROM (SELECT `fg1`.`total_fare` `total_fare`, `fg1`.`pickup_datetime` `pickup_datetime`, `fg1`.`month_of_the_ride` `month_of_the_ride`, `fg1`.`ride_id` `join_pk_ride_id`, `fg1`.`pickup_datetime` `join_evt_pickup_datetime`, `fg0`.`ride_id` `ride_id`, `fg0`.`pickup_longitude` `pickup_longitude`, `fg0`.`pickup_latitude` `pickup_latitude`, `fg0`.`dropoff_longitude` `dropoff_longitude`, `fg0`.`dropoff_latitude` `dropoff_latitude`, `fg0`.`passenger_count` `passenger_count`, `fg0`.`distance` `distance`, `fg0`.`pickup_distance_to_jfk` `pickup_distance_to_jfk`, `fg0`.`dropoff_distance_to_jfk` `dropoff_distance_to_jfk`, `fg0`.`pickup_distance_to_ewr` `pickup_distance_to_ewr`, `fg0`.`dropoff_distance_to_ewr` `dropoff_distance_to_ewr`, `fg0`.`pickup_distance_to_lgr` `pickup_distance_to_lgr`, `fg0`.`dropoff_distance_to_lgr` `dropoff_distance_to_lgr`, `fg0`.`year` `year`, `fg0`.`weekday` `weekday`, `fg0`.`hour` `hour`, RANK() OVER (PARTITION BY `fg1`.`ride_id`, `fg1`.`pickup_datetime`, `fg1`.`month_of_the_ride`, `fg1`.`pickup_datetime` ORDER BY `fg0`.`pickup_datetime` DESC) pit_rank_hopsworks\n",
      "FROM `nyc_taxi_fares_featurestore`.`fares_fg_1` `fg1`\n",
      "INNER JOIN `nyc_taxi_fares_featurestore`.`rides_fg_1` `fg0` ON `fg1`.`ride_id` = `fg0`.`ride_id` AND `fg1`.`pickup_datetime` = `fg0`.`pickup_datetime` AND `fg1`.`month_of_the_ride` = `fg0`.`month_of_the_ride` AND `fg1`.`pickup_datetime` >= `fg0`.`pickup_datetime`) NA\n",
      "WHERE `pit_rank_hopsworks` = 1) (SELECT `right_fg0`.`total_fare` `total_fare`, `right_fg0`.`pickup_datetime` `pickup_datetime`, `right_fg0`.`month_of_the_ride` `month_of_the_ride`, `right_fg0`.`ride_id` `ride_id`, `right_fg0`.`pickup_longitude` `pickup_longitude`, `right_fg0`.`pickup_latitude` `pickup_latitude`, `right_fg0`.`dropoff_longitude` `dropoff_longitude`, `right_fg0`.`dropoff_latitude` `dropoff_latitude`, `right_fg0`.`passenger_count` `passenger_count`, `right_fg0`.`distance` `distance`, `right_fg0`.`pickup_distance_to_jfk` `pickup_distance_to_jfk`, `right_fg0`.`dropoff_distance_to_jfk` `dropoff_distance_to_jfk`, `right_fg0`.`pickup_distance_to_ewr` `pickup_distance_to_ewr`, `right_fg0`.`dropoff_distance_to_ewr` `dropoff_distance_to_ewr`, `right_fg0`.`pickup_distance_to_lgr` `pickup_distance_to_lgr`, `right_fg0`.`dropoff_distance_to_lgr` `dropoff_distance_to_lgr`, `right_fg0`.`year` `year`, `right_fg0`.`weekday` `weekday`, `right_fg0`.`hour` `hour`\n",
      "FROM right_fg0)\n"
     ]
    },
    {
     "data": {
      "text/html": [
       "<div>\n",
       "<style scoped>\n",
       "    .dataframe tbody tr th:only-of-type {\n",
       "        vertical-align: middle;\n",
       "    }\n",
       "\n",
       "    .dataframe tbody tr th {\n",
       "        vertical-align: top;\n",
       "    }\n",
       "\n",
       "    .dataframe thead th {\n",
       "        text-align: right;\n",
       "    }\n",
       "</style>\n",
       "<table border=\"1\" class=\"dataframe\">\n",
       "  <thead>\n",
       "    <tr style=\"text-align: right;\">\n",
       "      <th></th>\n",
       "      <th>total_fare</th>\n",
       "      <th>pickup_datetime</th>\n",
       "      <th>month_of_the_ride</th>\n",
       "      <th>ride_id</th>\n",
       "      <th>pickup_longitude</th>\n",
       "      <th>pickup_latitude</th>\n",
       "      <th>dropoff_longitude</th>\n",
       "      <th>dropoff_latitude</th>\n",
       "      <th>passenger_count</th>\n",
       "      <th>distance</th>\n",
       "      <th>pickup_distance_to_jfk</th>\n",
       "      <th>dropoff_distance_to_jfk</th>\n",
       "      <th>pickup_distance_to_ewr</th>\n",
       "      <th>dropoff_distance_to_ewr</th>\n",
       "      <th>pickup_distance_to_lgr</th>\n",
       "      <th>dropoff_distance_to_lgr</th>\n",
       "      <th>year</th>\n",
       "      <th>weekday</th>\n",
       "      <th>hour</th>\n",
       "    </tr>\n",
       "  </thead>\n",
       "  <tbody>\n",
       "    <tr>\n",
       "      <th>0</th>\n",
       "      <td>118.0</td>\n",
       "      <td>1577880020000</td>\n",
       "      <td>202001</td>\n",
       "      <td>1</td>\n",
       "      <td>-73.76764</td>\n",
       "      <td>40.88664</td>\n",
       "      <td>-73.843834</td>\n",
       "      <td>40.78967</td>\n",
       "      <td>3</td>\n",
       "      <td>7.794438</td>\n",
       "      <td>16.960192</td>\n",
       "      <td>10.813943</td>\n",
       "      <td>25.269297</td>\n",
       "      <td>18.642949</td>\n",
       "      <td>9.402573</td>\n",
       "      <td>1.808076</td>\n",
       "      <td>2020</td>\n",
       "      <td>2</td>\n",
       "      <td>12</td>\n",
       "    </tr>\n",
       "    <tr>\n",
       "      <th>1</th>\n",
       "      <td>48.0</td>\n",
       "      <td>1577880040000</td>\n",
       "      <td>202001</td>\n",
       "      <td>2</td>\n",
       "      <td>-73.85604</td>\n",
       "      <td>40.77413</td>\n",
       "      <td>-73.802030</td>\n",
       "      <td>40.84287</td>\n",
       "      <td>3</td>\n",
       "      <td>5.525897</td>\n",
       "      <td>10.044588</td>\n",
       "      <td>13.983367</td>\n",
       "      <td>17.669196</td>\n",
       "      <td>22.185668</td>\n",
       "      <td>0.959006</td>\n",
       "      <td>5.911146</td>\n",
       "      <td>2020</td>\n",
       "      <td>2</td>\n",
       "      <td>12</td>\n",
       "    </tr>\n",
       "  </tbody>\n",
       "</table>\n",
       "</div>"
      ],
      "text/plain": [
       "   total_fare  pickup_datetime month_of_the_ride  ride_id  pickup_longitude  \\\n",
       "0       118.0    1577880020000            202001        1         -73.76764   \n",
       "1        48.0    1577880040000            202001        2         -73.85604   \n",
       "\n",
       "   pickup_latitude  dropoff_longitude  dropoff_latitude  passenger_count  \\\n",
       "0         40.88664         -73.843834          40.78967                3   \n",
       "1         40.77413         -73.802030          40.84287                3   \n",
       "\n",
       "   distance  pickup_distance_to_jfk  dropoff_distance_to_jfk  \\\n",
       "0  7.794438               16.960192                10.813943   \n",
       "1  5.525897               10.044588                13.983367   \n",
       "\n",
       "   pickup_distance_to_ewr  dropoff_distance_to_ewr  pickup_distance_to_lgr  \\\n",
       "0               25.269297                18.642949                9.402573   \n",
       "1               17.669196                22.185668                0.959006   \n",
       "\n",
       "   dropoff_distance_to_lgr  year  weekday  hour  \n",
       "0                 1.808076  2020        2    12  \n",
       "1                 5.911146  2020        2    12  "
      ]
     },
     "execution_count": 3,
     "metadata": {},
     "output_type": "execute_result"
    }
   ],
   "source": [
    "fg_query.show(2)"
   ]
  },
  {
   "cell_type": "markdown",
   "metadata": {},
   "source": [
    "#### <a class=\"anchor\" id=\"1.5_bullet\" style=\"color:#772f1a\"> **〰️ Transformation Functions** </a>\n",
    "\n",
    "\n",
    "We can preprocess our data using several encoding methods like *min-max scaling* on numerical features and *label encoding* on categorical features. To do this we simply define a mapping between our features and transformation functions. This ensures that transformation functions such as *min-max scaling* are fitted only on the training data (and not the validation/test data), which ensures that there is no data leakage."
   ]
  },
  {
   "cell_type": "code",
   "execution_count": 4,
   "metadata": {},
   "outputs": [
    {
     "data": {
      "text/plain": [
       "['robust_scaler', 'label_encoder', 'min_max_scaler', 'standard_scaler']"
      ]
     },
     "execution_count": 4,
     "metadata": {},
     "output_type": "execute_result"
    }
   ],
   "source": [
    "[t_func.name for t_func in fs.get_transformation_functions()]"
   ]
  },
  {
   "cell_type": "code",
   "execution_count": 4,
   "metadata": {},
   "outputs": [],
   "source": [
    "# # Load transformation functions.\n",
    "# min_max_scaler = fs.get_transformation_function(name=\"min_max_scaler\")\n",
    "# label_encoder = fs.get_transformation_function(name=\"label_encoder\")\n",
    "\n",
    "# # Map features to transformations.\n",
    "# transformation_functions = {\n",
    "#     \"total_fare\": min_max_scaler,\n",
    "#     \"distance\": min_max_scaler\n",
    "# }"
   ]
  },
  {
   "cell_type": "markdown",
   "metadata": {},
   "source": [
    "## <a class=\"anchor\" id=\"1.5_bullet\" style=\"color:#2db3f0\"> **🔮 Feature View Creation** </a>\n",
    "\n",
    "\n",
    "We start by selecting all the features we want to include for model training/inference.\n",
    "\n",
    "After we have made a query from desired features, we should make a corresponding `Feature View`.\n",
    "In order to do it we may use `fs.create_feature_view()`"
   ]
  },
  {
   "cell_type": "code",
   "execution_count": 5,
   "metadata": {},
   "outputs": [],
   "source": [
    "nyc_fares_fv = fs.create_feature_view(\n",
    "    name='nyc_taxi_fares',\n",
    "    query=fg_query,\n",
    "    label=[\"total_fare\"]\n",
    "#     transformation_functions=transformation_functions\n",
    ")"
   ]
  },
  {
   "cell_type": "code",
   "execution_count": 6,
   "metadata": {},
   "outputs": [
    {
     "data": {
      "text/plain": [
       "14"
      ]
     },
     "execution_count": 6,
     "metadata": {},
     "output_type": "execute_result"
    }
   ],
   "source": [
    "nyc_fares_fv.version"
   ]
  },
  {
   "cell_type": "code",
   "execution_count": 7,
   "metadata": {},
   "outputs": [
    {
     "data": {
      "text/plain": [
       "[]"
      ]
     },
     "execution_count": 7,
     "metadata": {},
     "output_type": "execute_result"
    }
   ],
   "source": [
    "nyc_fares_fv.preview_feature_vector()"
   ]
  },
  {
   "cell_type": "markdown",
   "metadata": {},
   "source": [
    "## <a class=\"anchor\" id=\"1.5_bullet\" style=\"color:#525252\"> **📦 Dataset Creation** </a>\n",
    "\n",
    "\n",
    "Finally we create the dataset using `fs.create_training_dataset()`."
   ]
  },
  {
   "cell_type": "code",
   "execution_count": 8,
   "metadata": {},
   "outputs": [
    {
     "name": "stdout",
     "output_type": "stream",
     "text": [
      "Training dataset job started successfully, you can follow the progress at https://hopsworks.glassfish.service.consul:8182/p/122/jobs/named/nyc_taxi_fares_14_1_create_fv_td_22052022211314/executions\n"
     ]
    },
    {
     "name": "stderr",
     "output_type": "stream",
     "text": [
      "VersionWarning: No version provided for creating training dataset, incremented version to `1`.\n"
     ]
    }
   ],
   "source": [
    "td_metadata = nyc_fares_fv.create_training_dataset(\n",
    "    description = 'NYC taxi fares dataset.',\n",
    "    data_format = 'csv',\n",
    "    splits = {'train': 80, 'validation': 20},\n",
    "    train_split = \"train\",\n",
    "    write_options = {'wait_for_job': False}\n",
    ")"
   ]
  },
  {
   "cell_type": "markdown",
   "metadata": {},
   "source": [
    "We can sanity check that the transformation functions have been applied by loading the training and validation data."
   ]
  },
  {
   "cell_type": "markdown",
   "metadata": {},
   "source": [
    "Now our dataset has been splitted into two parts: **train(80% of original dataset)** and **validation(20% of original dataset)**.\n",
    "\n",
    "- To get training dataset we can use `FeatureView.get_training_dataset()` method.\n",
    "\n",
    "- To retrieve specific part of training dataset use `FeatureView.get_training_dataset_splits()` method"
   ]
  },
  {
   "cell_type": "code",
   "execution_count": 10,
   "metadata": {},
   "outputs": [
    {
     "name": "stdout",
     "output_type": "stream",
     "text": [
      "2022-05-22 21:18:29,774 INFO: USE `nyc_taxi_fares_featurestore`\n",
      "2022-05-22 21:18:30,559 INFO: WITH right_fg0 AS (SELECT *\n",
      "FROM (SELECT `fg1`.`total_fare` `total_fare`, `fg1`.`pickup_datetime` `pickup_datetime`, `fg1`.`month_of_the_ride` `month_of_the_ride`, `fg1`.`ride_id` `join_pk_ride_id`, `fg1`.`pickup_datetime` `join_evt_pickup_datetime`, `fg0`.`ride_id` `ride_id`, `fg0`.`pickup_longitude` `pickup_longitude`, `fg0`.`pickup_latitude` `pickup_latitude`, `fg0`.`dropoff_longitude` `dropoff_longitude`, `fg0`.`dropoff_latitude` `dropoff_latitude`, `fg0`.`passenger_count` `passenger_count`, `fg0`.`distance` `distance`, `fg0`.`pickup_distance_to_jfk` `pickup_distance_to_jfk`, `fg0`.`dropoff_distance_to_jfk` `dropoff_distance_to_jfk`, `fg0`.`pickup_distance_to_ewr` `pickup_distance_to_ewr`, `fg0`.`dropoff_distance_to_ewr` `dropoff_distance_to_ewr`, `fg0`.`pickup_distance_to_lgr` `pickup_distance_to_lgr`, `fg0`.`dropoff_distance_to_lgr` `dropoff_distance_to_lgr`, `fg0`.`year` `year`, `fg0`.`weekday` `weekday`, `fg0`.`hour` `hour`, RANK() OVER (PARTITION BY `fg1`.`ride_id`, `fg1`.`pickup_datetime`, `fg1`.`month_of_the_ride`, `fg1`.`pickup_datetime` ORDER BY `fg0`.`pickup_datetime` DESC) pit_rank_hopsworks\n",
      "FROM `nyc_taxi_fares_featurestore`.`fares_fg_1` `fg1`\n",
      "INNER JOIN `nyc_taxi_fares_featurestore`.`rides_fg_1` `fg0` ON `fg1`.`ride_id` = `fg0`.`ride_id` AND `fg1`.`pickup_datetime` = `fg0`.`pickup_datetime` AND `fg1`.`month_of_the_ride` = `fg0`.`month_of_the_ride` AND `fg1`.`pickup_datetime` >= `fg0`.`pickup_datetime`) NA\n",
      "WHERE `pit_rank_hopsworks` = 1) (SELECT `right_fg0`.`total_fare` `total_fare`, `right_fg0`.`pickup_datetime` `pickup_datetime`, `right_fg0`.`month_of_the_ride` `month_of_the_ride`, `right_fg0`.`ride_id` `ride_id`, `right_fg0`.`pickup_longitude` `pickup_longitude`, `right_fg0`.`pickup_latitude` `pickup_latitude`, `right_fg0`.`dropoff_longitude` `dropoff_longitude`, `right_fg0`.`dropoff_latitude` `dropoff_latitude`, `right_fg0`.`passenger_count` `passenger_count`, `right_fg0`.`distance` `distance`, `right_fg0`.`pickup_distance_to_jfk` `pickup_distance_to_jfk`, `right_fg0`.`dropoff_distance_to_jfk` `dropoff_distance_to_jfk`, `right_fg0`.`pickup_distance_to_ewr` `pickup_distance_to_ewr`, `right_fg0`.`dropoff_distance_to_ewr` `dropoff_distance_to_ewr`, `right_fg0`.`pickup_distance_to_lgr` `pickup_distance_to_lgr`, `right_fg0`.`dropoff_distance_to_lgr` `dropoff_distance_to_lgr`, `right_fg0`.`year` `year`, `right_fg0`.`weekday` `weekday`, `right_fg0`.`hour` `hour`\n",
      "FROM right_fg0)\n"
     ]
    },
    {
     "name": "stderr",
     "output_type": "stream",
     "text": [
      "VersionWarning: No version provided for creating training dataset, incremented version to `2`.\n"
     ]
    },
    {
     "data": {
      "text/html": [
       "<div>\n",
       "<style scoped>\n",
       "    .dataframe tbody tr th:only-of-type {\n",
       "        vertical-align: middle;\n",
       "    }\n",
       "\n",
       "    .dataframe tbody tr th {\n",
       "        vertical-align: top;\n",
       "    }\n",
       "\n",
       "    .dataframe thead th {\n",
       "        text-align: right;\n",
       "    }\n",
       "</style>\n",
       "<table border=\"1\" class=\"dataframe\">\n",
       "  <thead>\n",
       "    <tr style=\"text-align: right;\">\n",
       "      <th></th>\n",
       "      <th>total_fare</th>\n",
       "      <th>pickup_datetime</th>\n",
       "      <th>month_of_the_ride</th>\n",
       "      <th>ride_id</th>\n",
       "      <th>pickup_longitude</th>\n",
       "      <th>pickup_latitude</th>\n",
       "      <th>dropoff_longitude</th>\n",
       "      <th>dropoff_latitude</th>\n",
       "      <th>passenger_count</th>\n",
       "      <th>distance</th>\n",
       "      <th>pickup_distance_to_jfk</th>\n",
       "      <th>dropoff_distance_to_jfk</th>\n",
       "      <th>pickup_distance_to_ewr</th>\n",
       "      <th>dropoff_distance_to_ewr</th>\n",
       "      <th>pickup_distance_to_lgr</th>\n",
       "      <th>dropoff_distance_to_lgr</th>\n",
       "      <th>year</th>\n",
       "      <th>weekday</th>\n",
       "      <th>hour</th>\n",
       "    </tr>\n",
       "  </thead>\n",
       "  <tbody>\n",
       "    <tr>\n",
       "      <th>0</th>\n",
       "      <td>118.0</td>\n",
       "      <td>1577880020000</td>\n",
       "      <td>202001</td>\n",
       "      <td>1</td>\n",
       "      <td>-73.76764</td>\n",
       "      <td>40.886640</td>\n",
       "      <td>-73.843834</td>\n",
       "      <td>40.789670</td>\n",
       "      <td>3</td>\n",
       "      <td>7.794438</td>\n",
       "      <td>16.960192</td>\n",
       "      <td>10.813943</td>\n",
       "      <td>25.269297</td>\n",
       "      <td>18.642949</td>\n",
       "      <td>9.402573</td>\n",
       "      <td>1.808076</td>\n",
       "      <td>2020</td>\n",
       "      <td>2</td>\n",
       "      <td>12</td>\n",
       "    </tr>\n",
       "    <tr>\n",
       "      <th>1</th>\n",
       "      <td>48.0</td>\n",
       "      <td>1577880040000</td>\n",
       "      <td>202001</td>\n",
       "      <td>2</td>\n",
       "      <td>-73.85604</td>\n",
       "      <td>40.774130</td>\n",
       "      <td>-73.802030</td>\n",
       "      <td>40.842870</td>\n",
       "      <td>3</td>\n",
       "      <td>5.525897</td>\n",
       "      <td>10.044588</td>\n",
       "      <td>13.983367</td>\n",
       "      <td>17.669196</td>\n",
       "      <td>22.185668</td>\n",
       "      <td>0.959006</td>\n",
       "      <td>5.911146</td>\n",
       "      <td>2020</td>\n",
       "      <td>2</td>\n",
       "      <td>12</td>\n",
       "    </tr>\n",
       "    <tr>\n",
       "      <th>2</th>\n",
       "      <td>41.0</td>\n",
       "      <td>1577880060000</td>\n",
       "      <td>202001</td>\n",
       "      <td>3</td>\n",
       "      <td>-73.86453</td>\n",
       "      <td>40.763325</td>\n",
       "      <td>-73.847970</td>\n",
       "      <td>40.784400</td>\n",
       "      <td>3</td>\n",
       "      <td>1.694445</td>\n",
       "      <td>9.569711</td>\n",
       "      <td>10.542662</td>\n",
       "      <td>17.013063</td>\n",
       "      <td>18.309169</td>\n",
       "      <td>1.060797</td>\n",
       "      <td>1.457111</td>\n",
       "      <td>2020</td>\n",
       "      <td>2</td>\n",
       "      <td>12</td>\n",
       "    </tr>\n",
       "    <tr>\n",
       "      <th>3</th>\n",
       "      <td>44.0</td>\n",
       "      <td>1577880080000</td>\n",
       "      <td>202001</td>\n",
       "      <td>4</td>\n",
       "      <td>-73.86093</td>\n",
       "      <td>40.767902</td>\n",
       "      <td>-73.781784</td>\n",
       "      <td>40.868633</td>\n",
       "      <td>3</td>\n",
       "      <td>8.097295</td>\n",
       "      <td>9.764157</td>\n",
       "      <td>15.708376</td>\n",
       "      <td>17.288908</td>\n",
       "      <td>23.986612</td>\n",
       "      <td>0.924238</td>\n",
       "      <td>7.963623</td>\n",
       "      <td>2020</td>\n",
       "      <td>2</td>\n",
       "      <td>12</td>\n",
       "    </tr>\n",
       "    <tr>\n",
       "      <th>4</th>\n",
       "      <td>46.0</td>\n",
       "      <td>1577880100000</td>\n",
       "      <td>202001</td>\n",
       "      <td>5</td>\n",
       "      <td>-73.85884</td>\n",
       "      <td>40.770570</td>\n",
       "      <td>-73.754680</td>\n",
       "      <td>40.903137</td>\n",
       "      <td>3</td>\n",
       "      <td>10.655660</td>\n",
       "      <td>9.882264</td>\n",
       "      <td>18.132646</td>\n",
       "      <td>17.450841</td>\n",
       "      <td>26.459162</td>\n",
       "      <td>0.905815</td>\n",
       "      <td>10.722712</td>\n",
       "      <td>2020</td>\n",
       "      <td>2</td>\n",
       "      <td>12</td>\n",
       "    </tr>\n",
       "  </tbody>\n",
       "</table>\n",
       "</div>"
      ],
      "text/plain": [
       "   total_fare  pickup_datetime month_of_the_ride  ride_id  pickup_longitude  \\\n",
       "0       118.0    1577880020000            202001        1         -73.76764   \n",
       "1        48.0    1577880040000            202001        2         -73.85604   \n",
       "2        41.0    1577880060000            202001        3         -73.86453   \n",
       "3        44.0    1577880080000            202001        4         -73.86093   \n",
       "4        46.0    1577880100000            202001        5         -73.85884   \n",
       "\n",
       "   pickup_latitude  dropoff_longitude  dropoff_latitude  passenger_count  \\\n",
       "0        40.886640         -73.843834         40.789670                3   \n",
       "1        40.774130         -73.802030         40.842870                3   \n",
       "2        40.763325         -73.847970         40.784400                3   \n",
       "3        40.767902         -73.781784         40.868633                3   \n",
       "4        40.770570         -73.754680         40.903137                3   \n",
       "\n",
       "    distance  pickup_distance_to_jfk  dropoff_distance_to_jfk  \\\n",
       "0   7.794438               16.960192                10.813943   \n",
       "1   5.525897               10.044588                13.983367   \n",
       "2   1.694445                9.569711                10.542662   \n",
       "3   8.097295                9.764157                15.708376   \n",
       "4  10.655660                9.882264                18.132646   \n",
       "\n",
       "   pickup_distance_to_ewr  dropoff_distance_to_ewr  pickup_distance_to_lgr  \\\n",
       "0               25.269297                18.642949                9.402573   \n",
       "1               17.669196                22.185668                0.959006   \n",
       "2               17.013063                18.309169                1.060797   \n",
       "3               17.288908                23.986612                0.924238   \n",
       "4               17.450841                26.459162                0.905815   \n",
       "\n",
       "   dropoff_distance_to_lgr  year  weekday  hour  \n",
       "0                 1.808076  2020        2    12  \n",
       "1                 5.911146  2020        2    12  \n",
       "2                 1.457111  2020        2    12  \n",
       "3                 7.963623  2020        2    12  \n",
       "4                10.722712  2020        2    12  "
      ]
     },
     "execution_count": 10,
     "metadata": {},
     "output_type": "execute_result"
    }
   ],
   "source": [
    "td_version, df = nyc_fares_fv.get_training_dataset()\n",
    "\n",
    "df.head()"
   ]
  },
  {
   "cell_type": "markdown",
   "metadata": {},
   "source": [
    "### Next Steps\n",
    "\n",
    "In the next notebook, we will train a model on the dataset we created in this notebook."
   ]
  }
 ],
 "metadata": {
  "interpreter": {
   "hash": "31f2aee4e71d21fbe5cf8b01ff0e069b9275f58929596ceb00d14d90e3e16cd6"
  },
  "kernelspec": {
   "display_name": "Python",
   "language": "python",
   "name": "python3"
  },
  "language_info": {
   "codemirror_mode": {
    "name": "ipython",
    "version": 3
   },
   "file_extension": ".py",
   "mimetype": "text/x-python",
   "name": "python",
   "nbconvert_exporter": "python",
   "pygments_lexer": "ipython3",
   "version": "3.8.11"
  }
 },
 "nbformat": 4,
 "nbformat_minor": 4
}